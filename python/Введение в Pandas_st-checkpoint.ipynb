{
 "cells": [
  {
   "cell_type": "markdown",
   "metadata": {
    "id": "GKphGragGGUo"
   },
   "source": [
    "# Введение в Pandas\n",
    "\n",
    "Библиотека Pandas обеспечивает быстрые, гибкие и выразительные структуры данных. Это один из основных \"кирпичиков\" в инфраструктуре Python, позволяющих заниматься анализом данных на этом языке.\n",
    "\n",
    "Pandas хорошо подходит для:\n",
    "* табличных\tданных, при условии однотипности данных в столбцах, как в таблицах SQL или Excel;\n",
    "* упорядоченных и неупорядоченных временных рядов;\n",
    "* произвольных (однотипных или разнотипных) данных, представленных в матрицах с метками столбцов и строк;\n",
    "* различных данных наблюдений / статистических наборов данных. \n",
    "\n",
    "Основные возможности:\n",
    "* удобная обработка пропущенных значений;\n",
    "* изменение размеров: столбцы и строки могут быть легко добавлены и удалены;\n",
    "* выравнивание данных: можно в ручную указать как выравнивать данные или воспрользоваться автоматическим выравниваниям по меткам;\n",
    "* мощные и гибкие средства группировки данных, позволяющих обрабатывать данные с помощью операций разделить-применить-объединить (split-apply-combine);\n",
    "* удобный доступ к данным с помощью срезов, различных вариантов индексирования для больших наборов данных;\n",
    "* интуитивно понятные операции объединения наборов данных\n",
    "* гибкие операции изменения размеров и перегруппировки данных;\n",
    "* иерархические метки осей;\n",
    "* средства для ввода-вывода данных, позволяющие работать с текстовыми файлами, базами данных, файлами Excel, и HDF5;\n",
    "* средства для работы с временными рядами, такие как генерация списков временных меток, преобразование частоты, статистические функции для скользящих окон, скользящая регрессия, задержки и т.п."
   ]
  },
  {
   "cell_type": "markdown",
   "metadata": {
    "id": "WgQ9MQXfGGUr"
   },
   "source": [
    "## Структуры данных\n",
    "Две основных структуры данных, определённые в библиотеке Pandas -- это Series и DataFrame. Обе структуры опираются на массивы  numPy (а следовательно работают быстро).\n",
    "\n",
    "Код ниже требуется запустить для подключения библиотек для работы с Pandas и Numpy, а также построения графиков matplotlib."
   ]
  },
  {
   "cell_type": "code",
   "execution_count": 1,
   "metadata": {
    "executionInfo": {
     "elapsed": 657,
     "status": "ok",
     "timestamp": 1615732314962,
     "user": {
      "displayName": "Михаил",
      "photoUrl": "https://lh3.googleusercontent.com/a-/AOh14GhiJ0GdlAAFzrcIaZrjYuuHOfmnl8yiYocYOQM2MA=s64",
      "userId": "01118662122915560207"
     },
     "user_tz": -180
    },
    "id": "Atp-2CVsGGUt"
   },
   "outputs": [],
   "source": [
    "import pandas as pd\n",
    "import numpy as np\n",
    "import matplotlib.pyplot as plt\n",
    "pd.set_option('max_columns', 50)\n",
    "%matplotlib inline"
   ]
  },
  {
   "cell_type": "markdown",
   "metadata": {
    "id": "uhs4eN9AGGUt"
   },
   "source": [
    "### Series\n",
    "\n",
    "Series это одномерный объект, сходный с массивами, списками или столбцами в таблице. Каждый элемент данных Series сопоставляет с **меткой**. \n",
    "\n",
    "По умолчанию в качестве меток используются числа от 0 до N, где N -- это число элементов в Series минус один.\n",
    "\n",
    "Series с таким вариантом индекса можно создать из обычного списка:\n"
   ]
  },
  {
   "cell_type": "code",
   "execution_count": 2,
   "metadata": {
    "colab": {
     "base_uri": "https://localhost:8080/"
    },
    "executionInfo": {
     "elapsed": 691,
     "status": "ok",
     "timestamp": 1615732360835,
     "user": {
      "displayName": "Михаил",
      "photoUrl": "https://lh3.googleusercontent.com/a-/AOh14GhiJ0GdlAAFzrcIaZrjYuuHOfmnl8yiYocYOQM2MA=s64",
      "userId": "01118662122915560207"
     },
     "user_tz": -180
    },
    "id": "RZ97gJJ7GGUu",
    "outputId": "d6786f30-3d85-4917-cd18-e9b6223165ad"
   },
   "outputs": [
    {
     "data": {
      "text/plain": [
       "0                 7\n",
       "1              Tver\n",
       "2              3.14\n",
       "3       -1789710578\n",
       "4    Happy studing!\n",
       "dtype: object"
      ]
     },
     "execution_count": 2,
     "metadata": {},
     "output_type": "execute_result"
    }
   ],
   "source": [
    "s = pd.Series([7, 'Tver', 3.14, -1789710578, 'Happy studing!'])\n",
    "s"
   ]
  },
  {
   "cell_type": "markdown",
   "metadata": {
    "id": "d33O6ek5GGUu"
   },
   "source": [
    "Метки могут принимать любые удобные значения (и иметь разные типы).\n",
    "Свой набор меток можно указать в параметре index при создании  Series:"
   ]
  },
  {
   "cell_type": "code",
   "execution_count": 7,
   "metadata": {
    "colab": {
     "base_uri": "https://localhost:8080/"
    },
    "executionInfo": {
     "elapsed": 666,
     "status": "ok",
     "timestamp": 1615732393398,
     "user": {
      "displayName": "Михаил",
      "photoUrl": "https://lh3.googleusercontent.com/a-/AOh14GhiJ0GdlAAFzrcIaZrjYuuHOfmnl8yiYocYOQM2MA=s64",
      "userId": "01118662122915560207"
     },
     "user_tz": -180
    },
    "id": "ow0B5u0oGGUv",
    "outputId": "ccb6e8f1-87a5-4ef4-993a-affabafcbda3"
   },
   "outputs": [
    {
     "data": {
      "text/plain": [
       "A                 7\n",
       "Z              Tver\n",
       "C              3.14\n",
       "Y       -1789710578\n",
       "E    Happy studing!\n",
       "dtype: object"
      ]
     },
     "execution_count": 7,
     "metadata": {
      "tags": []
     },
     "output_type": "execute_result"
    }
   ],
   "source": [
    "s = pd.Series([7, 'Tver', 3.14, -1789710578, 'Happy studing!'],\n",
    "              index=['A', 'Z', 'C', 'Y', 'E'])\n",
    "s"
   ]
  },
  {
   "cell_type": "markdown",
   "metadata": {
    "id": "8gPP_Ld7GGUv"
   },
   "source": [
    "_Создайте свой набор данных Series и присвойте метки._"
   ]
  },
  {
   "cell_type": "code",
   "execution_count": 13,
   "metadata": {
    "colab": {
     "base_uri": "https://localhost:8080/"
    },
    "executionInfo": {
     "elapsed": 672,
     "status": "ok",
     "timestamp": 1615732527760,
     "user": {
      "displayName": "Михаил",
      "photoUrl": "https://lh3.googleusercontent.com/a-/AOh14GhiJ0GdlAAFzrcIaZrjYuuHOfmnl8yiYocYOQM2MA=s64",
      "userId": "01118662122915560207"
     },
     "user_tz": -180
    },
    "id": "3sL19BcGGGUw",
    "outputId": "9d2d327f-56c3-4ca2-cf08-826e0698c7c5"
   },
   "outputs": [
    {
     "data": {
      "text/plain": [
       "A       1\n",
       "C      21\n",
       "E      41\n",
       "4    -124\n",
       "5    21.1\n",
       "6     так\n",
       "dtype: object"
      ]
     },
     "execution_count": 13,
     "metadata": {
      "tags": []
     },
     "output_type": "execute_result"
    }
   ],
   "source": [
    "a = pd.Series([1,21,41,-124,21.1,'так'],\n",
    "  index= ['A','C','E',4,5,6])\n",
    "a"
   ]
  },
  {
   "cell_type": "markdown",
   "metadata": {
    "id": "pt__Jrm8GGUw"
   },
   "source": [
    "Другим вариантом задать метки для элементов при создании Series является использование словарей:"
   ]
  },
  {
   "cell_type": "code",
   "execution_count": 19,
   "metadata": {
    "executionInfo": {
     "elapsed": 673,
     "status": "ok",
     "timestamp": 1615732744354,
     "user": {
      "displayName": "Михаил",
      "photoUrl": "https://lh3.googleusercontent.com/a-/AOh14GhiJ0GdlAAFzrcIaZrjYuuHOfmnl8yiYocYOQM2MA=s64",
      "userId": "01118662122915560207"
     },
     "user_tz": -180
    },
    "id": "RuznpUWOGGUx"
   },
   "outputs": [],
   "source": [
    "d = {'Chicago': 1000, 'New York': 1300, 'Portland': 900, 'San Francisco': 1100,\n",
    "     'Austin': 450, 'Boston': None}  #создали словарь, где каждому ключу соответствует значение\n",
    "cities = pd.Series(d) \n"
   ]
  },
  {
   "cell_type": "markdown",
   "metadata": {
    "id": "da8aHkGQGGUy"
   },
   "source": [
    "Обратите внимание, что значение None при помещении в Series было заменено на NaN. \"Не числа\" NaN'ы обычно используются в Pandas чтобы отметить пропущенные (неизвестные) значения в данных."
   ]
  },
  {
   "cell_type": "markdown",
   "metadata": {
    "id": "FXe_wAGUGGUy"
   },
   "source": [
    "_Создайте Series с теми же значениями, что Вы создавали в предыдущем задании, но используя словари._"
   ]
  },
  {
   "cell_type": "code",
   "execution_count": 16,
   "metadata": {
    "colab": {
     "base_uri": "https://localhost:8080/"
    },
    "executionInfo": {
     "elapsed": 548,
     "status": "ok",
     "timestamp": 1615732711436,
     "user": {
      "displayName": "Михаил",
      "photoUrl": "https://lh3.googleusercontent.com/a-/AOh14GhiJ0GdlAAFzrcIaZrjYuuHOfmnl8yiYocYOQM2MA=s64",
      "userId": "01118662122915560207"
     },
     "user_tz": -180
    },
    "id": "HzaumdqEGGUy",
    "outputId": "dcbe684d-69a1-4d59-ff53-71b6fe6a3e23"
   },
   "outputs": [
    {
     "data": {
      "text/plain": [
       "A       1\n",
       "C      21\n",
       "E      41\n",
       "4    -124\n",
       "5    21.1\n",
       "6     так\n",
       "dtype: object"
      ]
     },
     "execution_count": 16,
     "metadata": {
      "tags": []
     },
     "output_type": "execute_result"
    }
   ],
   "source": [
    "a ={'A':1,'C':21,'E':41,'4':-124,'5':21.1,'6':'так'}\n",
    "b = pd.Series(a)\n",
    "b"
   ]
  },
  {
   "cell_type": "markdown",
   "metadata": {
    "id": "p8mK8Ai0GGUy"
   },
   "source": [
    "Метки можно использовать для извлечения соответствующих им значений, используя оператор [ ]:"
   ]
  },
  {
   "cell_type": "code",
   "execution_count": 20,
   "metadata": {
    "colab": {
     "base_uri": "https://localhost:8080/"
    },
    "executionInfo": {
     "elapsed": 768,
     "status": "ok",
     "timestamp": 1615732749011,
     "user": {
      "displayName": "Михаил",
      "photoUrl": "https://lh3.googleusercontent.com/a-/AOh14GhiJ0GdlAAFzrcIaZrjYuuHOfmnl8yiYocYOQM2MA=s64",
      "userId": "01118662122915560207"
     },
     "user_tz": -180
    },
    "id": "iZTI4WqRGGUz",
    "outputId": "543cb1c6-584c-4684-972d-155c2e983d75"
   },
   "outputs": [
    {
     "data": {
      "text/plain": [
       "1000.0"
      ]
     },
     "execution_count": 20,
     "metadata": {
      "tags": []
     },
     "output_type": "execute_result"
    }
   ],
   "source": [
    "cities['Chicago']"
   ]
  },
  {
   "cell_type": "code",
   "execution_count": 21,
   "metadata": {
    "colab": {
     "base_uri": "https://localhost:8080/"
    },
    "executionInfo": {
     "elapsed": 676,
     "status": "ok",
     "timestamp": 1615732751340,
     "user": {
      "displayName": "Михаил",
      "photoUrl": "https://lh3.googleusercontent.com/a-/AOh14GhiJ0GdlAAFzrcIaZrjYuuHOfmnl8yiYocYOQM2MA=s64",
      "userId": "01118662122915560207"
     },
     "user_tz": -180
    },
    "id": "CMAaJ19gGGUz",
    "outputId": "ef3ec398-ac13-4f73-b6b7-aeb3fbfea9d3"
   },
   "outputs": [
    {
     "data": {
      "text/plain": [
       "Chicago          1000.0\n",
       "Portland          900.0\n",
       "San Francisco    1100.0\n",
       "dtype: float64"
      ]
     },
     "execution_count": 21,
     "metadata": {
      "tags": []
     },
     "output_type": "execute_result"
    }
   ],
   "source": [
    "cities[['Chicago', 'Portland', 'San Francisco']]"
   ]
  },
  {
   "cell_type": "markdown",
   "metadata": {
    "id": "9DEmWp-qGGUz"
   },
   "source": [
    "Series также поддерживает индексацию массивами логических значений:"
   ]
  },
  {
   "cell_type": "code",
   "execution_count": 22,
   "metadata": {
    "colab": {
     "base_uri": "https://localhost:8080/"
    },
    "executionInfo": {
     "elapsed": 767,
     "status": "ok",
     "timestamp": 1615732765691,
     "user": {
      "displayName": "Михаил",
      "photoUrl": "https://lh3.googleusercontent.com/a-/AOh14GhiJ0GdlAAFzrcIaZrjYuuHOfmnl8yiYocYOQM2MA=s64",
      "userId": "01118662122915560207"
     },
     "user_tz": -180
    },
    "id": "HRxHjPAPGGUz",
    "outputId": "d471893b-e78e-4f91-8e7a-96770b43133d"
   },
   "outputs": [
    {
     "data": {
      "text/plain": [
       "Portland    900.0\n",
       "Austin      450.0\n",
       "dtype: float64"
      ]
     },
     "execution_count": 22,
     "metadata": {
      "tags": []
     },
     "output_type": "execute_result"
    }
   ],
   "source": [
    "cities[cities < 1000]"
   ]
  },
  {
   "cell_type": "markdown",
   "metadata": {
    "id": "3EasRITgGGU0"
   },
   "source": [
    "Рассмотрим этот пример подробнее.\n",
    "    \n",
    "Выражение `cities < 1000` возвращает Series логических значений. Значением `True` отмечены метки элементов, для которых сравнение было верно:"
   ]
  },
  {
   "cell_type": "code",
   "execution_count": 23,
   "metadata": {
    "colab": {
     "base_uri": "https://localhost:8080/"
    },
    "executionInfo": {
     "elapsed": 687,
     "status": "ok",
     "timestamp": 1615732796844,
     "user": {
      "displayName": "Михаил",
      "photoUrl": "https://lh3.googleusercontent.com/a-/AOh14GhiJ0GdlAAFzrcIaZrjYuuHOfmnl8yiYocYOQM2MA=s64",
      "userId": "01118662122915560207"
     },
     "user_tz": -180
    },
    "id": "ogfYD9jbGGU0",
    "outputId": "6aa72563-6834-4cf2-a56a-0c0107f93a76"
   },
   "outputs": [
    {
     "data": {
      "text/plain": [
       "Chicago          False\n",
       "New York         False\n",
       "Portland          True\n",
       "San Francisco    False\n",
       "Austin            True\n",
       "Boston           False\n",
       "dtype: bool"
      ]
     },
     "execution_count": 23,
     "metadata": {
      "tags": []
     },
     "output_type": "execute_result"
    }
   ],
   "source": [
    "cities < 1000"
   ]
  },
  {
   "cell_type": "markdown",
   "metadata": {
    "id": "BSnFkEeIGGU0"
   },
   "source": [
    "Этот Series с логическими значениями передаётся в оператор [ ] исходного ряда данных, который возвращает только элементы, для которых указано значение `True`.\n",
    "\n",
    "Поэлементные логические функции над Series реализованы с помощью операторов & (и), | (или) и ~ (отрицание). Это делает работу со сложными условиями более удобной, чем с массивами в numPy, для которых нужно использовать функции с длинными названиями, например `np.logical_and()`. Необходимо только помещать все операции в скобки:"
   ]
  },
  {
   "cell_type": "code",
   "execution_count": 24,
   "metadata": {
    "colab": {
     "base_uri": "https://localhost:8080/"
    },
    "executionInfo": {
     "elapsed": 690,
     "status": "ok",
     "timestamp": 1615732855737,
     "user": {
      "displayName": "Михаил",
      "photoUrl": "https://lh3.googleusercontent.com/a-/AOh14GhiJ0GdlAAFzrcIaZrjYuuHOfmnl8yiYocYOQM2MA=s64",
      "userId": "01118662122915560207"
     },
     "user_tz": -180
    },
    "id": "BV3Pt54aGGU0",
    "outputId": "1a56f3c7-ede0-466c-bfba-81058beaabb3"
   },
   "outputs": [
    {
     "data": {
      "text/plain": [
       "Chicago     1000.0\n",
       "Portland     900.0\n",
       "dtype: float64"
      ]
     },
     "execution_count": 24,
     "metadata": {
      "tags": []
     },
     "output_type": "execute_result"
    }
   ],
   "source": [
    "cities[(cities > 500) & (~(cities > 1000))]"
   ]
  },
  {
   "cell_type": "markdown",
   "metadata": {
    "id": "oDwiWTT-GGU1"
   },
   "source": [
    "_Дополните код в поле ниже так, чтобы напечатались только те города, в которых показатель больше 1100 и ниже 900._"
   ]
  },
  {
   "cell_type": "code",
   "execution_count": 49,
   "metadata": {
    "colab": {
     "base_uri": "https://localhost:8080/"
    },
    "executionInfo": {
     "elapsed": 674,
     "status": "ok",
     "timestamp": 1615733728680,
     "user": {
      "displayName": "Михаил",
      "photoUrl": "https://lh3.googleusercontent.com/a-/AOh14GhiJ0GdlAAFzrcIaZrjYuuHOfmnl8yiYocYOQM2MA=s64",
      "userId": "01118662122915560207"
     },
     "user_tz": -180
    },
    "id": "sF3kxqLAGGU1",
    "outputId": "ad81ee17-0233-4117-b6f8-bccc25f2696f"
   },
   "outputs": [
    {
     "data": {
      "text/plain": [
       "Series([], dtype: float64)"
      ]
     },
     "execution_count": 49,
     "metadata": {
      "tags": []
     },
     "output_type": "execute_result"
    }
   ],
   "source": [
    "d = {'Chicago': 1000, 'New York': 1300, 'Portland': 900, 'San Francisco': 1100,\n",
    "     'Austin': 450, 'Boston': None}\n",
    "cities = pd.Series(d)\n",
    "c = cities[(cities > 1100) & (cities < 900) ]\n",
    "c\n"
   ]
  },
  {
   "cell_type": "markdown",
   "metadata": {
    "id": "S-_fWBhWGGU1"
   },
   "source": [
    "Оператор [ ] позволяет изменять значения отдельных элементов в Series:"
   ]
  },
  {
   "cell_type": "code",
   "execution_count": 26,
   "metadata": {
    "colab": {
     "base_uri": "https://localhost:8080/"
    },
    "executionInfo": {
     "elapsed": 690,
     "status": "ok",
     "timestamp": 1615732971756,
     "user": {
      "displayName": "Михаил",
      "photoUrl": "https://lh3.googleusercontent.com/a-/AOh14GhiJ0GdlAAFzrcIaZrjYuuHOfmnl8yiYocYOQM2MA=s64",
      "userId": "01118662122915560207"
     },
     "user_tz": -180
    },
    "id": "YiSWk58TGGU1",
    "outputId": "f9f90ced-bfbf-43eb-9cc9-c4378a33bf15"
   },
   "outputs": [
    {
     "name": "stdout",
     "output_type": "stream",
     "text": [
      "старое значение: 1000.0\n"
     ]
    }
   ],
   "source": [
    "print('старое значение:', cities['Chicago'])\n",
    "cities['Chicago'] = 1400"
   ]
  },
  {
   "cell_type": "markdown",
   "metadata": {
    "id": "2F21_umpGGU1"
   },
   "source": [
    "Можно изменять сразу несколько элементов, если использовать индексацию логическими значениями:"
   ]
  },
  {
   "cell_type": "code",
   "execution_count": null,
   "metadata": {
    "id": "zZqSgvCAGGU2"
   },
   "outputs": [],
   "source": [
    "cities[cities < 1000] = 750"
   ]
  },
  {
   "cell_type": "markdown",
   "metadata": {
    "id": "G4hBkea9GGU2"
   },
   "source": [
    "_С помощью оператора [] поменяйте значения Boston на любое и для всех городов с показателем больше 1100 и ниже 900 установите значение 50._  "
   ]
  },
  {
   "cell_type": "code",
   "execution_count": 51,
   "metadata": {
    "colab": {
     "base_uri": "https://localhost:8080/"
    },
    "executionInfo": {
     "elapsed": 744,
     "status": "ok",
     "timestamp": 1615733760293,
     "user": {
      "displayName": "Михаил",
      "photoUrl": "https://lh3.googleusercontent.com/a-/AOh14GhiJ0GdlAAFzrcIaZrjYuuHOfmnl8yiYocYOQM2MA=s64",
      "userId": "01118662122915560207"
     },
     "user_tz": -180
    },
    "id": "3wSm4BDxGGU2",
    "outputId": "a0fc26bc-2682-45e3-97b2-5f1f8137d10c"
   },
   "outputs": [
    {
     "data": {
      "text/plain": [
       "Chicago          1000.0\n",
       "New York         1300.0\n",
       "Portland          900.0\n",
       "San Francisco    1100.0\n",
       "Austin            450.0\n",
       "Boston            101.0\n",
       "dtype: float64"
      ]
     },
     "execution_count": 51,
     "metadata": {
      "tags": []
     },
     "output_type": "execute_result"
    }
   ],
   "source": [
    "d = {'Chicago': 1000, 'New York': 1300, 'Portland': 900, 'San Francisco': 1100,\n",
    "     'Austin': 450, 'Boston': None}\n",
    "cities = pd.Series(d)\n",
    "cities['Boston'] = 101\n",
    "c = cities[(cities > 1100) & (cities < 900)] = 50\n",
    "cities"
   ]
  },
  {
   "cell_type": "markdown",
   "metadata": {
    "id": "-XDRzJUmGGU2"
   },
   "source": [
    "Наличие метки с определённым значением можно проверять с помощью стандартных операторов `in` / `not in` языка Python. \n",
    "\n",
    "_Здесь и далее запускайте код самостоятельно и анализируйте результат:_"
   ]
  },
  {
   "cell_type": "code",
   "execution_count": 52,
   "metadata": {
    "colab": {
     "base_uri": "https://localhost:8080/"
    },
    "executionInfo": {
     "elapsed": 691,
     "status": "ok",
     "timestamp": 1615733810270,
     "user": {
      "displayName": "Михаил",
      "photoUrl": "https://lh3.googleusercontent.com/a-/AOh14GhiJ0GdlAAFzrcIaZrjYuuHOfmnl8yiYocYOQM2MA=s64",
      "userId": "01118662122915560207"
     },
     "user_tz": -180
    },
    "id": "uUZNDk8uGGU2",
    "outputId": "3515598a-c201-441d-93d0-294b7e0efe0f"
   },
   "outputs": [
    {
     "name": "stdout",
     "output_type": "stream",
     "text": [
      "False\n",
      "True\n"
     ]
    }
   ],
   "source": [
    "print('Seattle' in cities)\n",
    "print('San Francisco' in cities)"
   ]
  },
  {
   "cell_type": "markdown",
   "metadata": {
    "id": "hzkzKwOLGGU3"
   },
   "source": [
    "Series поддерживает векторные реализации математических операций c числами и применение универсальных функций, подобно массивам NumPy. При этом метки сохраняются."
   ]
  },
  {
   "cell_type": "code",
   "execution_count": 53,
   "metadata": {
    "colab": {
     "base_uri": "https://localhost:8080/"
    },
    "executionInfo": {
     "elapsed": 688,
     "status": "ok",
     "timestamp": 1615733887226,
     "user": {
      "displayName": "Михаил",
      "photoUrl": "https://lh3.googleusercontent.com/a-/AOh14GhiJ0GdlAAFzrcIaZrjYuuHOfmnl8yiYocYOQM2MA=s64",
      "userId": "01118662122915560207"
     },
     "user_tz": -180
    },
    "id": "jgnuUHvxGGU3",
    "outputId": "0b283b84-572a-49fd-e18e-834764e488ee"
   },
   "outputs": [
    {
     "data": {
      "text/plain": [
       "Chicago          333.333333\n",
       "New York         433.333333\n",
       "Portland         300.000000\n",
       "San Francisco    366.666667\n",
       "Austin           150.000000\n",
       "Boston            33.666667\n",
       "dtype: float64"
      ]
     },
     "execution_count": 53,
     "metadata": {
      "tags": []
     },
     "output_type": "execute_result"
    }
   ],
   "source": [
    "cities / 3"
   ]
  },
  {
   "cell_type": "code",
   "execution_count": 54,
   "metadata": {
    "colab": {
     "base_uri": "https://localhost:8080/"
    },
    "executionInfo": {
     "elapsed": 839,
     "status": "ok",
     "timestamp": 1615733892281,
     "user": {
      "displayName": "Михаил",
      "photoUrl": "https://lh3.googleusercontent.com/a-/AOh14GhiJ0GdlAAFzrcIaZrjYuuHOfmnl8yiYocYOQM2MA=s64",
      "userId": "01118662122915560207"
     },
     "user_tz": -180
    },
    "id": "apllEGfVGGU3",
    "outputId": "a2fc1a32-ef46-4437-b673-10cf8de83f54"
   },
   "outputs": [
    {
     "data": {
      "text/plain": [
       "Chicago          1000000.0\n",
       "New York         1690000.0\n",
       "Portland          810000.0\n",
       "San Francisco    1210000.0\n",
       "Austin            202500.0\n",
       "Boston             10201.0\n",
       "dtype: float64"
      ]
     },
     "execution_count": 54,
     "metadata": {
      "tags": []
     },
     "output_type": "execute_result"
    }
   ],
   "source": [
    "np.square(cities)"
   ]
  },
  {
   "cell_type": "markdown",
   "metadata": {
    "id": "8zMNkUopGGU3"
   },
   "source": [
    "Операция сложения между двумя Series приводит к формированию объединённого Series, при этом:\n",
    "* значения с одинаковыми метками складываются;\n",
    "* если метка есть только в одном из Series, то для неё в результат записывается значение NaN."
   ]
  },
  {
   "cell_type": "code",
   "execution_count": 55,
   "metadata": {
    "colab": {
     "base_uri": "https://localhost:8080/"
    },
    "executionInfo": {
     "elapsed": 696,
     "status": "ok",
     "timestamp": 1615733943798,
     "user": {
      "displayName": "Михаил",
      "photoUrl": "https://lh3.googleusercontent.com/a-/AOh14GhiJ0GdlAAFzrcIaZrjYuuHOfmnl8yiYocYOQM2MA=s64",
      "userId": "01118662122915560207"
     },
     "user_tz": -180
    },
    "id": "P-tA_hcaGGU3",
    "outputId": "a96a4808-7141-48e5-99c6-5980b16ddf2b"
   },
   "outputs": [
    {
     "name": "stdout",
     "output_type": "stream",
     "text": [
      "Chicago     1000.0\n",
      "New York    1300.0\n",
      "Portland     900.0\n",
      "dtype: float64 \n",
      "\n",
      "Austin       450.0\n",
      "New York    1300.0\n",
      "dtype: float64 \n",
      "\n"
     ]
    },
    {
     "data": {
      "text/plain": [
       "Austin         NaN\n",
       "Chicago        NaN\n",
       "New York    2600.0\n",
       "Portland       NaN\n",
       "dtype: float64"
      ]
     },
     "execution_count": 55,
     "metadata": {
      "tags": []
     },
     "output_type": "execute_result"
    }
   ],
   "source": [
    "cities1 = cities[['Chicago', 'New York', 'Portland']]\n",
    "print(cities1, '\\n')\n",
    "cities2 = cities[['Austin', 'New York']]\n",
    "print(cities2, '\\n')\n",
    "cities1 + cities2"
   ]
  },
  {
   "cell_type": "markdown",
   "metadata": {
    "id": "H8rGmNhqGGU4"
   },
   "source": [
    "Обратите внимание, что для Austin, Chicago и New York в результе получилось NaN, так как данные для них были представлены только в одном из слагаемых.\n",
    "\n",
    "Найти элементы, отмеченные как пропущенные (NaN) можно с помощью метода `.isnull()`. Метод `.notnull()` выполняет противоположную функцию.\n",
    "\n",
    "_Проверьте работу этих функций._"
   ]
  },
  {
   "cell_type": "code",
   "execution_count": 56,
   "metadata": {
    "colab": {
     "base_uri": "https://localhost:8080/"
    },
    "executionInfo": {
     "elapsed": 702,
     "status": "ok",
     "timestamp": 1615734016511,
     "user": {
      "displayName": "Михаил",
      "photoUrl": "https://lh3.googleusercontent.com/a-/AOh14GhiJ0GdlAAFzrcIaZrjYuuHOfmnl8yiYocYOQM2MA=s64",
      "userId": "01118662122915560207"
     },
     "user_tz": -180
    },
    "id": "sXnsA4-AGGU4",
    "outputId": "15e81211-8539-4388-de3f-ce287f52a093"
   },
   "outputs": [
    {
     "data": {
      "text/plain": [
       "Chicago          False\n",
       "New York         False\n",
       "Portland         False\n",
       "San Francisco    False\n",
       "Austin           False\n",
       "Boston           False\n",
       "dtype: bool"
      ]
     },
     "execution_count": 56,
     "metadata": {
      "tags": []
     },
     "output_type": "execute_result"
    }
   ],
   "source": [
    "cities.isnull()"
   ]
  },
  {
   "cell_type": "code",
   "execution_count": 57,
   "metadata": {
    "colab": {
     "base_uri": "https://localhost:8080/"
    },
    "executionInfo": {
     "elapsed": 676,
     "status": "ok",
     "timestamp": 1615734027580,
     "user": {
      "displayName": "Михаил",
      "photoUrl": "https://lh3.googleusercontent.com/a-/AOh14GhiJ0GdlAAFzrcIaZrjYuuHOfmnl8yiYocYOQM2MA=s64",
      "userId": "01118662122915560207"
     },
     "user_tz": -180
    },
    "id": "YL1p1SgjGGU4",
    "outputId": "91a46346-e5c7-4a53-a648-a5c74879d476"
   },
   "outputs": [
    {
     "data": {
      "text/plain": [
       "Chicago          True\n",
       "New York         True\n",
       "Portland         True\n",
       "San Francisco    True\n",
       "Austin           True\n",
       "Boston           True\n",
       "dtype: bool"
      ]
     },
     "execution_count": 57,
     "metadata": {
      "tags": []
     },
     "output_type": "execute_result"
    }
   ],
   "source": [
    "cities.notnull()"
   ]
  },
  {
   "cell_type": "markdown",
   "metadata": {
    "id": "J-Ln27xKGGU4"
   },
   "source": [
    "Часто пропущенные данные требуется удалить. Это можно сделать с помощью метода `.dropna()`."
   ]
  },
  {
   "cell_type": "code",
   "execution_count": 58,
   "metadata": {
    "colab": {
     "base_uri": "https://localhost:8080/"
    },
    "executionInfo": {
     "elapsed": 669,
     "status": "ok",
     "timestamp": 1615734045038,
     "user": {
      "displayName": "Михаил",
      "photoUrl": "https://lh3.googleusercontent.com/a-/AOh14GhiJ0GdlAAFzrcIaZrjYuuHOfmnl8yiYocYOQM2MA=s64",
      "userId": "01118662122915560207"
     },
     "user_tz": -180
    },
    "id": "BzRKr1kGGGU4",
    "outputId": "1363744a-68ef-4f82-fa42-9d62a6e7c73c"
   },
   "outputs": [
    {
     "data": {
      "text/plain": [
       "Chicago          1000.0\n",
       "New York         1300.0\n",
       "Portland          900.0\n",
       "San Francisco    1100.0\n",
       "Austin            450.0\n",
       "Boston            101.0\n",
       "dtype: float64"
      ]
     },
     "execution_count": 58,
     "metadata": {
      "tags": []
     },
     "output_type": "execute_result"
    }
   ],
   "source": [
    "cities.dropna()"
   ]
  },
  {
   "cell_type": "markdown",
   "metadata": {
    "id": "4Kgr85vdGGU4"
   },
   "source": [
    "_В коде ниже в виде списков представленны данные для двух Series._\n",
    "\n",
    "_Создайте Series с именем `cities` из списка `d` и `newCities` из списка `newD`._\n",
    "\n",
    "_Выявите все элементы с пропущенными полями для `cities`. Установите для одного из них какое-либо значение, а другой -- удалите._\n",
    "\n",
    "_В `newCities` содержатся обновлённые данные по городам. Определите прирост(убыток) значения данного показателя для всех городов, используя математическую операцию между двумя Series._"
   ]
  },
  {
   "cell_type": "code",
   "execution_count": 126,
   "metadata": {
    "colab": {
     "base_uri": "https://localhost:8080/"
    },
    "executionInfo": {
     "elapsed": 658,
     "status": "ok",
     "timestamp": 1615737872912,
     "user": {
      "displayName": "Михаил",
      "photoUrl": "https://lh3.googleusercontent.com/a-/AOh14GhiJ0GdlAAFzrcIaZrjYuuHOfmnl8yiYocYOQM2MA=s64",
      "userId": "01118662122915560207"
     },
     "user_tz": -180
    },
    "id": "zi9ya6-CGGU5",
    "outputId": "dc89ca4d-3fff-4484-80fd-18d8254c126d"
   },
   "outputs": [
    {
     "name": "stdout",
     "output_type": "stream",
     "text": [
      "Chicago    True\n",
      "Tver       True\n",
      "Boston     True\n",
      "dtype: bool\n",
      "New York         1300.0\n",
      "Portland          900.0\n",
      "San Francisco    1100.0\n",
      "Austin            450.0\n",
      "Boston             10.0\n",
      "dtype: float64\n",
      "Austin           1100.0\n",
      "New York         2400.0\n",
      "San Francisco    3100.0\n",
      "dtype: float64\n"
     ]
    }
   ],
   "source": [
    "d = {'Chicago': None, 'New York': 1300, 'Tver': None, 'Portland': 900, 'San Francisco': 1100,\n",
    "     'Austin': 450, 'Boston': None}\n",
    "\n",
    "newD = {'New York': 1100, 'San Francisco': 2000, 'Austin': 650}\n",
    "\n",
    "\n",
    "cities = pd.Series(d)\n",
    "c =cities.isnull()\n",
    "print(c[c==True])\n",
    "cities['Boston'] = 10\n",
    "print(cities.dropna())\n",
    "\n",
    "newCities = pd.Series(newD)\n",
    "a =newCities + cities\n",
    "print(a.dropna())"
   ]
  },
  {
   "cell_type": "markdown",
   "metadata": {
    "id": "GQ3PFXhoGGU5"
   },
   "source": [
    "### DataFrame\n",
    "\n",
    "DataFrame -- это табличная структура, состоящая из столбцов и строк, сходная с листом Excel или таблицой реляционной базы данных. \n",
    "\n",
    "Можно представить себе что DataFrame -- это объединение нескольких столбцов, представленных Series с одинаковыми метками (но можно получить и строку в виде Series, метками которого будут имена столбцов).\n",
    "\n",
    "DataFrame -- это основной объект, с помощью которого проводится обработка данных в Pandas.\n"
   ]
  },
  {
   "cell_type": "markdown",
   "metadata": {
    "id": "-uXIrbNQGGU5"
   },
   "source": [
    "Чтобы создать DataFrame из стандартных объектов Python требуется передать конструктору словарь списков. При этом ключи словаря - названия будущих столбцов, а соответствующие списки - их данные.\n",
    "\n",
    "По умолчанию столбцы будут упорядочены по алфавиту. Если это не подходит - можно передать список имён в требуемом порядке через аргумент `columns`.\n"
   ]
  },
  {
   "cell_type": "code",
   "execution_count": null,
   "metadata": {
    "id": "Q_vz4jCYGGU5"
   },
   "outputs": [],
   "source": [
    "data = {'year': [2010, 2011, 2012, 2011, 2012, 2010, 2011, 2012],\n",
    "        'team': ['Bears', 'Bears', 'Bears', 'Packers', 'Packers', 'Lions', 'Lions', 'Lions'],\n",
    "        'wins': [11, 8, 10, 15, 11, 6, 10, 4],\n",
    "        'losses': [5, 8, 6, 1, 5, 10, 6, 12]}\n",
    "football = pd.DataFrame(data, columns=['year', 'team', 'wins', 'losses'])\n"
   ]
  },
  {
   "cell_type": "markdown",
   "metadata": {
    "id": "Lxm14QeDGGU5"
   },
   "source": [
    "Чаще всего исходные данные для анализа сохранены в каких-то файлах и их читают с помощью специальных методов Pandas.\n",
    "\n",
    "Распространённым вариантом передачи данных являются текстовые файлы с разделитеями в формате csv.\n",
    "\n",
    "Такие файлы можно загрузить при помощи функции `read_csv()`:"
   ]
  },
  {
   "cell_type": "code",
   "execution_count": 5,
   "metadata": {
    "id": "ekc7L_seGGU6"
   },
   "outputs": [
    {
     "data": {
      "text/html": [
       "<div>\n",
       "<style scoped>\n",
       "    .dataframe tbody tr th:only-of-type {\n",
       "        vertical-align: middle;\n",
       "    }\n",
       "\n",
       "    .dataframe tbody tr th {\n",
       "        vertical-align: top;\n",
       "    }\n",
       "\n",
       "    .dataframe thead th {\n",
       "        text-align: right;\n",
       "    }\n",
       "</style>\n",
       "<table border=\"1\" class=\"dataframe\">\n",
       "  <thead>\n",
       "    <tr style=\"text-align: right;\">\n",
       "      <th></th>\n",
       "      <th>Year</th>\n",
       "      <th>Age</th>\n",
       "      <th>Tm</th>\n",
       "      <th>Lg</th>\n",
       "      <th>W</th>\n",
       "      <th>L</th>\n",
       "      <th>W-L%</th>\n",
       "      <th>ERA</th>\n",
       "      <th>G</th>\n",
       "      <th>GS</th>\n",
       "      <th>GF</th>\n",
       "      <th>CG</th>\n",
       "      <th>SHO</th>\n",
       "      <th>SV</th>\n",
       "      <th>IP</th>\n",
       "      <th>H</th>\n",
       "      <th>R</th>\n",
       "      <th>ER</th>\n",
       "      <th>HR</th>\n",
       "      <th>BB</th>\n",
       "      <th>IBB</th>\n",
       "      <th>SO</th>\n",
       "      <th>HBP</th>\n",
       "      <th>BK</th>\n",
       "      <th>WP</th>\n",
       "      <th>BF</th>\n",
       "      <th>ERA+</th>\n",
       "      <th>FIP</th>\n",
       "      <th>WHIP</th>\n",
       "      <th>H9</th>\n",
       "      <th>HR9</th>\n",
       "      <th>BB9</th>\n",
       "      <th>SO9</th>\n",
       "      <th>SO/W</th>\n",
       "      <th>Awards</th>\n",
       "    </tr>\n",
       "  </thead>\n",
       "  <tbody>\n",
       "    <tr>\n",
       "      <th>0</th>\n",
       "      <td>1995</td>\n",
       "      <td>25</td>\n",
       "      <td>NYY</td>\n",
       "      <td>AL</td>\n",
       "      <td>5</td>\n",
       "      <td>3</td>\n",
       "      <td>0.625</td>\n",
       "      <td>5.51</td>\n",
       "      <td>19</td>\n",
       "      <td>10</td>\n",
       "      <td>2</td>\n",
       "      <td>0</td>\n",
       "      <td>0</td>\n",
       "      <td>0</td>\n",
       "      <td>67.0</td>\n",
       "      <td>71</td>\n",
       "      <td>43</td>\n",
       "      <td>41</td>\n",
       "      <td>11</td>\n",
       "      <td>30</td>\n",
       "      <td>0</td>\n",
       "      <td>51</td>\n",
       "      <td>2</td>\n",
       "      <td>1</td>\n",
       "      <td>0</td>\n",
       "      <td>301</td>\n",
       "      <td>84</td>\n",
       "      <td>5.15</td>\n",
       "      <td>1.507</td>\n",
       "      <td>9.5</td>\n",
       "      <td>1.5</td>\n",
       "      <td>4.0</td>\n",
       "      <td>6.9</td>\n",
       "      <td>1.70</td>\n",
       "      <td>NaN</td>\n",
       "    </tr>\n",
       "    <tr>\n",
       "      <th>1</th>\n",
       "      <td>1996</td>\n",
       "      <td>26</td>\n",
       "      <td>NYY</td>\n",
       "      <td>AL</td>\n",
       "      <td>8</td>\n",
       "      <td>3</td>\n",
       "      <td>0.727</td>\n",
       "      <td>2.09</td>\n",
       "      <td>61</td>\n",
       "      <td>0</td>\n",
       "      <td>14</td>\n",
       "      <td>0</td>\n",
       "      <td>0</td>\n",
       "      <td>5</td>\n",
       "      <td>107.2</td>\n",
       "      <td>73</td>\n",
       "      <td>25</td>\n",
       "      <td>25</td>\n",
       "      <td>1</td>\n",
       "      <td>34</td>\n",
       "      <td>3</td>\n",
       "      <td>130</td>\n",
       "      <td>2</td>\n",
       "      <td>0</td>\n",
       "      <td>1</td>\n",
       "      <td>425</td>\n",
       "      <td>240</td>\n",
       "      <td>1.88</td>\n",
       "      <td>0.994</td>\n",
       "      <td>6.1</td>\n",
       "      <td>0.1</td>\n",
       "      <td>2.8</td>\n",
       "      <td>10.9</td>\n",
       "      <td>3.82</td>\n",
       "      <td>CYA-3MVP-12</td>\n",
       "    </tr>\n",
       "    <tr>\n",
       "      <th>2</th>\n",
       "      <td>1997</td>\n",
       "      <td>27</td>\n",
       "      <td>NYY</td>\n",
       "      <td>AL</td>\n",
       "      <td>6</td>\n",
       "      <td>4</td>\n",
       "      <td>0.600</td>\n",
       "      <td>1.88</td>\n",
       "      <td>66</td>\n",
       "      <td>0</td>\n",
       "      <td>56</td>\n",
       "      <td>0</td>\n",
       "      <td>0</td>\n",
       "      <td>43</td>\n",
       "      <td>71.2</td>\n",
       "      <td>65</td>\n",
       "      <td>17</td>\n",
       "      <td>15</td>\n",
       "      <td>5</td>\n",
       "      <td>20</td>\n",
       "      <td>6</td>\n",
       "      <td>68</td>\n",
       "      <td>0</td>\n",
       "      <td>0</td>\n",
       "      <td>2</td>\n",
       "      <td>301</td>\n",
       "      <td>239</td>\n",
       "      <td>2.96</td>\n",
       "      <td>1.186</td>\n",
       "      <td>8.2</td>\n",
       "      <td>0.6</td>\n",
       "      <td>2.5</td>\n",
       "      <td>8.5</td>\n",
       "      <td>3.40</td>\n",
       "      <td>ASMVP-25</td>\n",
       "    </tr>\n",
       "    <tr>\n",
       "      <th>3</th>\n",
       "      <td>1998</td>\n",
       "      <td>28</td>\n",
       "      <td>NYY</td>\n",
       "      <td>AL</td>\n",
       "      <td>3</td>\n",
       "      <td>0</td>\n",
       "      <td>1.000</td>\n",
       "      <td>1.91</td>\n",
       "      <td>54</td>\n",
       "      <td>0</td>\n",
       "      <td>49</td>\n",
       "      <td>0</td>\n",
       "      <td>0</td>\n",
       "      <td>36</td>\n",
       "      <td>61.1</td>\n",
       "      <td>48</td>\n",
       "      <td>13</td>\n",
       "      <td>13</td>\n",
       "      <td>3</td>\n",
       "      <td>17</td>\n",
       "      <td>1</td>\n",
       "      <td>36</td>\n",
       "      <td>1</td>\n",
       "      <td>0</td>\n",
       "      <td>0</td>\n",
       "      <td>246</td>\n",
       "      <td>233</td>\n",
       "      <td>3.48</td>\n",
       "      <td>1.060</td>\n",
       "      <td>7.0</td>\n",
       "      <td>0.4</td>\n",
       "      <td>2.5</td>\n",
       "      <td>5.3</td>\n",
       "      <td>2.12</td>\n",
       "      <td>NaN</td>\n",
       "    </tr>\n",
       "    <tr>\n",
       "      <th>4</th>\n",
       "      <td>1999</td>\n",
       "      <td>29</td>\n",
       "      <td>NYY</td>\n",
       "      <td>AL</td>\n",
       "      <td>4</td>\n",
       "      <td>3</td>\n",
       "      <td>0.571</td>\n",
       "      <td>1.83</td>\n",
       "      <td>66</td>\n",
       "      <td>0</td>\n",
       "      <td>63</td>\n",
       "      <td>0</td>\n",
       "      <td>0</td>\n",
       "      <td>45</td>\n",
       "      <td>69.0</td>\n",
       "      <td>43</td>\n",
       "      <td>15</td>\n",
       "      <td>14</td>\n",
       "      <td>2</td>\n",
       "      <td>18</td>\n",
       "      <td>3</td>\n",
       "      <td>52</td>\n",
       "      <td>3</td>\n",
       "      <td>1</td>\n",
       "      <td>2</td>\n",
       "      <td>268</td>\n",
       "      <td>257</td>\n",
       "      <td>2.92</td>\n",
       "      <td>0.884</td>\n",
       "      <td>5.6</td>\n",
       "      <td>0.3</td>\n",
       "      <td>2.3</td>\n",
       "      <td>6.8</td>\n",
       "      <td>2.89</td>\n",
       "      <td>ASCYA-3MVP-14</td>\n",
       "    </tr>\n",
       "  </tbody>\n",
       "</table>\n",
       "</div>"
      ],
      "text/plain": [
       "   Year  Age   Tm  Lg  W  L   W-L%   ERA   G  GS  GF  CG  SHO  SV     IP   H  \\\n",
       "0  1995   25  NYY  AL  5  3  0.625  5.51  19  10   2   0    0   0   67.0  71   \n",
       "1  1996   26  NYY  AL  8  3  0.727  2.09  61   0  14   0    0   5  107.2  73   \n",
       "2  1997   27  NYY  AL  6  4  0.600  1.88  66   0  56   0    0  43   71.2  65   \n",
       "3  1998   28  NYY  AL  3  0  1.000  1.91  54   0  49   0    0  36   61.1  48   \n",
       "4  1999   29  NYY  AL  4  3  0.571  1.83  66   0  63   0    0  45   69.0  43   \n",
       "\n",
       "    R  ER  HR  BB  IBB   SO  HBP  BK  WP   BF  ERA+   FIP   WHIP   H9  HR9  \\\n",
       "0  43  41  11  30    0   51    2   1   0  301    84  5.15  1.507  9.5  1.5   \n",
       "1  25  25   1  34    3  130    2   0   1  425   240  1.88  0.994  6.1  0.1   \n",
       "2  17  15   5  20    6   68    0   0   2  301   239  2.96  1.186  8.2  0.6   \n",
       "3  13  13   3  17    1   36    1   0   0  246   233  3.48  1.060  7.0  0.4   \n",
       "4  15  14   2  18    3   52    3   1   2  268   257  2.92  0.884  5.6  0.3   \n",
       "\n",
       "   BB9   SO9  SO/W         Awards  \n",
       "0  4.0   6.9  1.70            NaN  \n",
       "1  2.8  10.9  3.82    CYA-3MVP-12  \n",
       "2  2.5   8.5  3.40       ASMVP-25  \n",
       "3  2.5   5.3  2.12            NaN  \n",
       "4  2.3   6.8  2.89  ASCYA-3MVP-14  "
      ]
     },
     "execution_count": 5,
     "metadata": {},
     "output_type": "execute_result"
    }
   ],
   "source": [
    "from_csv = pd.read_csv('C:/Users/Михаил/Desktop/img/mariano-rivera.csv')\n",
    "from_csv.head()"
   ]
  },
  {
   "cell_type": "markdown",
   "metadata": {
    "id": "P5J_CiW-GGU6"
   },
   "source": [
    "Метод `.head()` печатает 5 первых строк данных, что полезно для получения первого представления о содержании большого набора данных. Метод `tail()` печатает 5 последних строк.\n",
    "\n",
    "По умолчанию функция `.read_csv()` берёт имена столбцов из **первой строки файла**. \n",
    "\n",
    "Если в файле нет заголовков, то нужно указать параметр `header=None` и задать имена столбцов с помощью аргумента `names`.\n",
    "\n",
    "Параметр `sep` позволяет задать разделитель, который используется в файле данных.\n",
    "\n",
    "Параметр `encoding` позволяет задать кодировку текста, что особенно полезно при наличии в файле русского текста."
   ]
  },
  {
   "cell_type": "code",
   "execution_count": 8,
   "metadata": {
    "id": "VrElgvNcGGU6"
   },
   "outputs": [
    {
     "data": {
      "text/html": [
       "<div>\n",
       "<style scoped>\n",
       "    .dataframe tbody tr th:only-of-type {\n",
       "        vertical-align: middle;\n",
       "    }\n",
       "\n",
       "    .dataframe tbody tr th {\n",
       "        vertical-align: top;\n",
       "    }\n",
       "\n",
       "    .dataframe thead th {\n",
       "        text-align: right;\n",
       "    }\n",
       "</style>\n",
       "<table border=\"1\" class=\"dataframe\">\n",
       "  <thead>\n",
       "    <tr style=\"text-align: right;\">\n",
       "      <th></th>\n",
       "      <th>num</th>\n",
       "      <th>game</th>\n",
       "      <th>date</th>\n",
       "      <th>team</th>\n",
       "      <th>home_away</th>\n",
       "      <th>opponent</th>\n",
       "      <th>result</th>\n",
       "      <th>quarter</th>\n",
       "      <th>distance</th>\n",
       "      <th>receiver</th>\n",
       "      <th>score_before</th>\n",
       "      <th>score_after</th>\n",
       "    </tr>\n",
       "  </thead>\n",
       "  <tbody>\n",
       "    <tr>\n",
       "      <th>1</th>\n",
       "      <td>2012-09-09</td>\n",
       "      <td>1</td>\n",
       "      <td>NaN</td>\n",
       "      <td>DEN</td>\n",
       "      <td>NaN</td>\n",
       "      <td>PIT</td>\n",
       "      <td>W 31-19</td>\n",
       "      <td>3</td>\n",
       "      <td>71</td>\n",
       "      <td>Demaryius Tomas</td>\n",
       "      <td>Trail 7-13</td>\n",
       "      <td>Lead 14-13*</td>\n",
       "    </tr>\n",
       "    <tr>\n",
       "      <th>2</th>\n",
       "      <td>2012-09-09</td>\n",
       "      <td>1</td>\n",
       "      <td>NaN</td>\n",
       "      <td>DEN</td>\n",
       "      <td>NaN</td>\n",
       "      <td>PIT</td>\n",
       "      <td>W 31-19</td>\n",
       "      <td>4</td>\n",
       "      <td>1</td>\n",
       "      <td>Jacob Tamme</td>\n",
       "      <td>Trail 14-19</td>\n",
       "      <td>Lead 22-19*</td>\n",
       "    </tr>\n",
       "    <tr>\n",
       "      <th>3</th>\n",
       "      <td>2012-09-17</td>\n",
       "      <td>2</td>\n",
       "      <td>NaN</td>\n",
       "      <td>DEN</td>\n",
       "      <td>@</td>\n",
       "      <td>ATL</td>\n",
       "      <td>L 21-27</td>\n",
       "      <td>2</td>\n",
       "      <td>17</td>\n",
       "      <td>Demaryius Thomas</td>\n",
       "      <td>Trail 0-20</td>\n",
       "      <td>Trail 7-20</td>\n",
       "    </tr>\n",
       "    <tr>\n",
       "      <th>4</th>\n",
       "      <td>2012-09-23</td>\n",
       "      <td>3</td>\n",
       "      <td>NaN</td>\n",
       "      <td>DEN</td>\n",
       "      <td>NaN</td>\n",
       "      <td>HOU</td>\n",
       "      <td>L 25-31</td>\n",
       "      <td>4</td>\n",
       "      <td>38</td>\n",
       "      <td>Brandon Stokley</td>\n",
       "      <td>Trail 11-31</td>\n",
       "      <td>Trail 18-31</td>\n",
       "    </tr>\n",
       "    <tr>\n",
       "      <th>5</th>\n",
       "      <td>2012-09-23</td>\n",
       "      <td>3</td>\n",
       "      <td>NaN</td>\n",
       "      <td>DEN</td>\n",
       "      <td>NaN</td>\n",
       "      <td>HOU</td>\n",
       "      <td>L 25-31</td>\n",
       "      <td>4</td>\n",
       "      <td>6</td>\n",
       "      <td>Joel Dreessen</td>\n",
       "      <td>Trail 18-31</td>\n",
       "      <td>Trail 25-31</td>\n",
       "    </tr>\n",
       "  </tbody>\n",
       "</table>\n",
       "</div>"
      ],
      "text/plain": [
       "          num  game  date team home_away opponent   result  quarter  distance  \\\n",
       "1  2012-09-09     1   NaN  DEN       NaN      PIT  W 31-19        3        71   \n",
       "2  2012-09-09     1   NaN  DEN       NaN      PIT  W 31-19        4         1   \n",
       "3  2012-09-17     2   NaN  DEN         @      ATL  L 21-27        2        17   \n",
       "4  2012-09-23     3   NaN  DEN       NaN      HOU  L 25-31        4        38   \n",
       "5  2012-09-23     3   NaN  DEN       NaN      HOU  L 25-31        4         6   \n",
       "\n",
       "           receiver score_before  score_after  \n",
       "1   Demaryius Tomas   Trail 7-13  Lead 14-13*  \n",
       "2       Jacob Tamme  Trail 14-19  Lead 22-19*  \n",
       "3  Demaryius Thomas   Trail 0-20   Trail 7-20  \n",
       "4   Brandon Stokley  Trail 11-31  Trail 18-31  \n",
       "5     Joel Dreessen  Trail 18-31  Trail 25-31  "
      ]
     },
     "execution_count": 8,
     "metadata": {},
     "output_type": "execute_result"
    }
   ],
   "source": [
    "cols = ['num', 'game', 'date', 'team', 'home_away', 'opponent',\n",
    "        'result', 'quarter', 'distance', 'receiver', 'score_before',\n",
    "        'score_after']\n",
    "no_headers = pd.read_csv('C:/Users/Михаил/Desktop/img/peyton-passing-TDs-2012.csv', sep=',', encoding='latin-1', header=None, names=cols)\n",
    "no_headers.head()"
   ]
  },
  {
   "cell_type": "markdown",
   "metadata": {
    "id": "Ha96GrmcGGU6"
   },
   "source": [
    "Функции чтения данных в Pandas имеют множество других параметров, которые позволяют:\n",
    "\n",
    "-- пропускать строки или столбцы файла, \n",
    "\n",
    "-- читать дату/время в различных форматах, \n",
    "\n",
    "-- детектировать и обрабатывать пропущенные значения\n",
    "\n",
    "-- и так далее.\n",
    "\n",
    "Кроме текстовых файлов, Pandas может читать книги Excel, файлы HDF5 (специальный формат для эффективного хранения данных), загружать данные из СУБД, буфера обмена, скачивать напрямую из Web и загружать через различные API. \n",
    "\n",
    "Результаты обработки потом можно сохранить в эти же форматы. \n",
    "\n",
    "Познакомиться со всеми возможностями Pandas по работе с источниками данных можно в документации: http://pandas.pydata.org/pandas-docs/stable/user_guide/io.html\n"
   ]
  },
  {
   "cell_type": "markdown",
   "metadata": {
    "collapsed": true,
    "id": "Me0sA5CtGGU7"
   },
   "source": [
    "Проведём небольшой анализ данных по фильмам, представленных MovieLens.\n",
    "1. Создайте список названий столбцов для данных о пользователях. Столбцы будут иметь следующие заголовки: `'user_id', 'age', 'sex', 'occupation', 'zip_code'`.\n",
    "2. В  переменную `users` прочитайте данные из \"data/u.user\" (файл u.user из папки data) с помощью функции `read_csv`, указав в качестве разделителя вертикальную линию (`|`), кодировку `latin-1` и в качестве заголовков столбцов созданый Вами список (п.1)."
   ]
  },
  {
   "cell_type": "code",
   "execution_count": 4,
   "metadata": {
    "id": "MQu26wFeGGU7"
   },
   "outputs": [
    {
     "data": {
      "text/html": [
       "<div>\n",
       "<style scoped>\n",
       "    .dataframe tbody tr th:only-of-type {\n",
       "        vertical-align: middle;\n",
       "    }\n",
       "\n",
       "    .dataframe tbody tr th {\n",
       "        vertical-align: top;\n",
       "    }\n",
       "\n",
       "    .dataframe thead th {\n",
       "        text-align: right;\n",
       "    }\n",
       "</style>\n",
       "<table border=\"1\" class=\"dataframe\">\n",
       "  <thead>\n",
       "    <tr style=\"text-align: right;\">\n",
       "      <th></th>\n",
       "      <th>user_id</th>\n",
       "      <th>age</th>\n",
       "      <th>sex</th>\n",
       "      <th>occupation</th>\n",
       "      <th>zip_code</th>\n",
       "    </tr>\n",
       "  </thead>\n",
       "  <tbody>\n",
       "    <tr>\n",
       "      <th>0</th>\n",
       "      <td>400</td>\n",
       "      <td>24</td>\n",
       "      <td>M</td>\n",
       "      <td>technician</td>\n",
       "      <td>85711</td>\n",
       "    </tr>\n",
       "    <tr>\n",
       "      <th>1</th>\n",
       "      <td>402</td>\n",
       "      <td>53</td>\n",
       "      <td>F</td>\n",
       "      <td>other</td>\n",
       "      <td>94043</td>\n",
       "    </tr>\n",
       "    <tr>\n",
       "      <th>2</th>\n",
       "      <td>404</td>\n",
       "      <td>23</td>\n",
       "      <td>M</td>\n",
       "      <td>writer</td>\n",
       "      <td>32067</td>\n",
       "    </tr>\n",
       "    <tr>\n",
       "      <th>3</th>\n",
       "      <td>406</td>\n",
       "      <td>24</td>\n",
       "      <td>M</td>\n",
       "      <td>technician</td>\n",
       "      <td>43537</td>\n",
       "    </tr>\n",
       "    <tr>\n",
       "      <th>4</th>\n",
       "      <td>408</td>\n",
       "      <td>33</td>\n",
       "      <td>F</td>\n",
       "      <td>other</td>\n",
       "      <td>15213</td>\n",
       "    </tr>\n",
       "  </tbody>\n",
       "</table>\n",
       "</div>"
      ],
      "text/plain": [
       "   user_id  age sex  occupation zip_code\n",
       "0      400   24   M  technician    85711\n",
       "1      402   53   F       other    94043\n",
       "2      404   23   M      writer    32067\n",
       "3      406   24   M  technician    43537\n",
       "4      408   33   F       other    15213"
      ]
     },
     "execution_count": 4,
     "metadata": {},
     "output_type": "execute_result"
    }
   ],
   "source": [
    "col = ['user_id', 'age', 'sex', 'occupation', 'zip_code']\n",
    "users = pd.read_csv('C:/Users/Михаил/Desktop/img/u.user', sep='|', encoding='latin-1', header=None, names=col)\n",
    "users.head()\n"
   ]
  },
  {
   "cell_type": "markdown",
   "metadata": {
    "id": "mXH0dJlwGGU7"
   },
   "source": [
    "Произведите аналогичную операцию для файлов:\n",
    "1. 'data/u.data', разделитель `'\\t'`, кодировка `latin-1`, заголовки столбцов: `'user_id', 'movie_id', 'rating', 'unix_timestamp'`. Назовите DataFrame `ratings`.\n",
    "2. 'data/u.item', разделитель `|`, кодировка `latin-1`, заголовки столбцов: `'movie_id', 'title', 'release_date', 'video_release_date', 'imdb_url'`. \n",
    "Из этих данных мы будем использовать только 5 первых столбцов, поэтому в функцию `read_csv` добавьте параметр `usecols` равный `range(5)`. DataFrame назовите `movies`."
   ]
  },
  {
   "cell_type": "code",
   "execution_count": 49,
   "metadata": {
    "id": "eFHyRergGGU7"
   },
   "outputs": [
    {
     "name": "stdout",
     "output_type": "stream",
     "text": [
      "   user_id  movie_id  rating  unix_timestamp\n",
      "0      196       242       3       881250949\n",
      "1      186       302       3       891717742\n",
      "2       22       377       1       878887116\n",
      "3      244        51       2       880606923\n",
      "4      166       346       1       886397596\n"
     ]
    },
    {
     "data": {
      "text/html": [
       "<div>\n",
       "<style scoped>\n",
       "    .dataframe tbody tr th:only-of-type {\n",
       "        vertical-align: middle;\n",
       "    }\n",
       "\n",
       "    .dataframe tbody tr th {\n",
       "        vertical-align: top;\n",
       "    }\n",
       "\n",
       "    .dataframe thead th {\n",
       "        text-align: right;\n",
       "    }\n",
       "</style>\n",
       "<table border=\"1\" class=\"dataframe\">\n",
       "  <thead>\n",
       "    <tr style=\"text-align: right;\">\n",
       "      <th></th>\n",
       "      <th>movie_id</th>\n",
       "      <th>title</th>\n",
       "      <th>release_date</th>\n",
       "      <th>video_release_date</th>\n",
       "      <th>imdb_url</th>\n",
       "    </tr>\n",
       "  </thead>\n",
       "  <tbody>\n",
       "    <tr>\n",
       "      <th>0</th>\n",
       "      <td>1</td>\n",
       "      <td>Toy Story (1995)</td>\n",
       "      <td>01-Jan-1995</td>\n",
       "      <td>NaN</td>\n",
       "      <td>http://us.imdb.com/M/title-exact?Toy%20Story%2...</td>\n",
       "    </tr>\n",
       "    <tr>\n",
       "      <th>1</th>\n",
       "      <td>2</td>\n",
       "      <td>GoldenEye (1995)</td>\n",
       "      <td>01-Jan-1995</td>\n",
       "      <td>NaN</td>\n",
       "      <td>http://us.imdb.com/M/title-exact?GoldenEye%20(...</td>\n",
       "    </tr>\n",
       "    <tr>\n",
       "      <th>2</th>\n",
       "      <td>3</td>\n",
       "      <td>Four Rooms (1995)</td>\n",
       "      <td>01-Jan-1995</td>\n",
       "      <td>NaN</td>\n",
       "      <td>http://us.imdb.com/M/title-exact?Four%20Rooms%...</td>\n",
       "    </tr>\n",
       "    <tr>\n",
       "      <th>3</th>\n",
       "      <td>4</td>\n",
       "      <td>Get Shorty (1995)</td>\n",
       "      <td>01-Jan-1995</td>\n",
       "      <td>NaN</td>\n",
       "      <td>http://us.imdb.com/M/title-exact?Get%20Shorty%...</td>\n",
       "    </tr>\n",
       "    <tr>\n",
       "      <th>4</th>\n",
       "      <td>5</td>\n",
       "      <td>Copycat (1995)</td>\n",
       "      <td>01-Jan-1995</td>\n",
       "      <td>NaN</td>\n",
       "      <td>http://us.imdb.com/M/title-exact?Copycat%20(1995)</td>\n",
       "    </tr>\n",
       "  </tbody>\n",
       "</table>\n",
       "</div>"
      ],
      "text/plain": [
       "   movie_id              title release_date  video_release_date  \\\n",
       "0         1   Toy Story (1995)  01-Jan-1995                 NaN   \n",
       "1         2   GoldenEye (1995)  01-Jan-1995                 NaN   \n",
       "2         3  Four Rooms (1995)  01-Jan-1995                 NaN   \n",
       "3         4  Get Shorty (1995)  01-Jan-1995                 NaN   \n",
       "4         5     Copycat (1995)  01-Jan-1995                 NaN   \n",
       "\n",
       "                                            imdb_url  \n",
       "0  http://us.imdb.com/M/title-exact?Toy%20Story%2...  \n",
       "1  http://us.imdb.com/M/title-exact?GoldenEye%20(...  \n",
       "2  http://us.imdb.com/M/title-exact?Four%20Rooms%...  \n",
       "3  http://us.imdb.com/M/title-exact?Get%20Shorty%...  \n",
       "4  http://us.imdb.com/M/title-exact?Copycat%20(1995)  "
      ]
     },
     "execution_count": 49,
     "metadata": {},
     "output_type": "execute_result"
    }
   ],
   "source": [
    "col = ['user_id', 'movie_id', 'rating', 'unix_timestamp']\n",
    "ratings = pd.read_csv('C:/Users/Михаил/Desktop/img/u.data', sep='\\t', encoding='latin-1', header=None, names=col)\n",
    "print(ratings.head())\n",
    "\n",
    "col_1 = ['movie_id', 'title', 'release_date', 'video_release_date', 'imdb_url']\n",
    "movies = pd.read_csv('C:/Users/Михаил/Desktop/img/u.item', sep='|', encoding='latin-1', header=None, names=col_1,usecols = range(5))\n",
    "movies.head()"
   ]
  },
  {
   "cell_type": "markdown",
   "metadata": {
    "id": "wrnn6h9KGGU7"
   },
   "source": [
    "В Pandas существует множество функций для получения базовой информации о созданных DataFrame.\n",
    "\n",
    "Рассмотрим метод `info()`, который позволяет получить основую информацию."
   ]
  },
  {
   "cell_type": "code",
   "execution_count": 50,
   "metadata": {
    "id": "xhOQybKzGGU8"
   },
   "outputs": [
    {
     "name": "stdout",
     "output_type": "stream",
     "text": [
      "<class 'pandas.core.frame.DataFrame'>\n",
      "RangeIndex: 1682 entries, 0 to 1681\n",
      "Data columns (total 5 columns):\n",
      " #   Column              Non-Null Count  Dtype  \n",
      "---  ------              --------------  -----  \n",
      " 0   movie_id            1682 non-null   int64  \n",
      " 1   title               1682 non-null   object \n",
      " 2   release_date        1681 non-null   object \n",
      " 3   video_release_date  0 non-null      float64\n",
      " 4   imdb_url            1679 non-null   object \n",
      "dtypes: float64(1), int64(1), object(3)\n",
      "memory usage: 65.8+ KB\n"
     ]
    }
   ],
   "source": [
    "movies.info()"
   ]
  },
  {
   "cell_type": "markdown",
   "metadata": {
    "id": "ikRWiybmGGU8"
   },
   "source": [
    "Выведется следующая информация:\n",
    "- в данных содержится 1682 строки и 5 столбцов, один из которых (video_release_date) не заполнен и 2 заполнены частично (release_date и imdb_url);\n",
    "- тип данных содержимого в каждом из столбцов. Также для получения типов данных можно воспользоваться методом `dtypes` интересующего DataFrame;\n",
    "- количество памяти для хранения DataFrame.\n",
    "\n",
    "_Примените к DataFrame `movies` методы `head()` и `tail()`, посмотрите, как выглядят данные._\n",
    "\n",
    "_Распечатайте поле `dtypes` у DataFrame `movies` и сопоставьте выведенные типы с полученными с помощью `info`. Обратите внимание, что `dtypes` это имя поля (переменной) класса, а не функция, и круглые скобки писать не надо._"
   ]
  },
  {
   "cell_type": "code",
   "execution_count": 53,
   "metadata": {
    "id": "IWFzt0yeGGU8"
   },
   "outputs": [
    {
     "name": "stdout",
     "output_type": "stream",
     "text": [
      "   movie_id              title release_date  video_release_date  \\\n",
      "0         1   Toy Story (1995)  01-Jan-1995                 NaN   \n",
      "1         2   GoldenEye (1995)  01-Jan-1995                 NaN   \n",
      "2         3  Four Rooms (1995)  01-Jan-1995                 NaN   \n",
      "3         4  Get Shorty (1995)  01-Jan-1995                 NaN   \n",
      "4         5     Copycat (1995)  01-Jan-1995                 NaN   \n",
      "\n",
      "                                            imdb_url  \n",
      "0  http://us.imdb.com/M/title-exact?Toy%20Story%2...  \n",
      "1  http://us.imdb.com/M/title-exact?GoldenEye%20(...  \n",
      "2  http://us.imdb.com/M/title-exact?Four%20Rooms%...  \n",
      "3  http://us.imdb.com/M/title-exact?Get%20Shorty%...  \n",
      "4  http://us.imdb.com/M/title-exact?Copycat%20(1995)  \n"
     ]
    },
    {
     "data": {
      "text/html": [
       "<div>\n",
       "<style scoped>\n",
       "    .dataframe tbody tr th:only-of-type {\n",
       "        vertical-align: middle;\n",
       "    }\n",
       "\n",
       "    .dataframe tbody tr th {\n",
       "        vertical-align: top;\n",
       "    }\n",
       "\n",
       "    .dataframe thead th {\n",
       "        text-align: right;\n",
       "    }\n",
       "</style>\n",
       "<table border=\"1\" class=\"dataframe\">\n",
       "  <thead>\n",
       "    <tr style=\"text-align: right;\">\n",
       "      <th></th>\n",
       "      <th>movie_id</th>\n",
       "      <th>title</th>\n",
       "      <th>release_date</th>\n",
       "      <th>video_release_date</th>\n",
       "      <th>imdb_url</th>\n",
       "    </tr>\n",
       "  </thead>\n",
       "  <tbody>\n",
       "    <tr>\n",
       "      <th>1677</th>\n",
       "      <td>1678</td>\n",
       "      <td>Mat' i syn (1997)</td>\n",
       "      <td>06-Feb-1998</td>\n",
       "      <td>NaN</td>\n",
       "      <td>http://us.imdb.com/M/title-exact?Mat%27+i+syn+...</td>\n",
       "    </tr>\n",
       "    <tr>\n",
       "      <th>1678</th>\n",
       "      <td>1679</td>\n",
       "      <td>B. Monkey (1998)</td>\n",
       "      <td>06-Feb-1998</td>\n",
       "      <td>NaN</td>\n",
       "      <td>http://us.imdb.com/M/title-exact?B%2E+Monkey+(...</td>\n",
       "    </tr>\n",
       "    <tr>\n",
       "      <th>1679</th>\n",
       "      <td>1680</td>\n",
       "      <td>Sliding Doors (1998)</td>\n",
       "      <td>01-Jan-1998</td>\n",
       "      <td>NaN</td>\n",
       "      <td>http://us.imdb.com/Title?Sliding+Doors+(1998)</td>\n",
       "    </tr>\n",
       "    <tr>\n",
       "      <th>1680</th>\n",
       "      <td>1681</td>\n",
       "      <td>You So Crazy (1994)</td>\n",
       "      <td>01-Jan-1994</td>\n",
       "      <td>NaN</td>\n",
       "      <td>http://us.imdb.com/M/title-exact?You%20So%20Cr...</td>\n",
       "    </tr>\n",
       "    <tr>\n",
       "      <th>1681</th>\n",
       "      <td>1682</td>\n",
       "      <td>Scream of Stone (Schrei aus Stein) (1991)</td>\n",
       "      <td>08-Mar-1996</td>\n",
       "      <td>NaN</td>\n",
       "      <td>http://us.imdb.com/M/title-exact?Schrei%20aus%...</td>\n",
       "    </tr>\n",
       "  </tbody>\n",
       "</table>\n",
       "</div>"
      ],
      "text/plain": [
       "      movie_id                                      title release_date  \\\n",
       "1677      1678                          Mat' i syn (1997)  06-Feb-1998   \n",
       "1678      1679                           B. Monkey (1998)  06-Feb-1998   \n",
       "1679      1680                       Sliding Doors (1998)  01-Jan-1998   \n",
       "1680      1681                        You So Crazy (1994)  01-Jan-1994   \n",
       "1681      1682  Scream of Stone (Schrei aus Stein) (1991)  08-Mar-1996   \n",
       "\n",
       "      video_release_date                                           imdb_url  \n",
       "1677                 NaN  http://us.imdb.com/M/title-exact?Mat%27+i+syn+...  \n",
       "1678                 NaN  http://us.imdb.com/M/title-exact?B%2E+Monkey+(...  \n",
       "1679                 NaN      http://us.imdb.com/Title?Sliding+Doors+(1998)  \n",
       "1680                 NaN  http://us.imdb.com/M/title-exact?You%20So%20Cr...  \n",
       "1681                 NaN  http://us.imdb.com/M/title-exact?Schrei%20aus%...  "
      ]
     },
     "execution_count": 53,
     "metadata": {},
     "output_type": "execute_result"
    }
   ],
   "source": [
    "print(movies.head())\n",
    "movies.tail()"
   ]
  },
  {
   "cell_type": "markdown",
   "metadata": {
    "id": "qHhy3IiOGGU8"
   },
   "source": [
    "Примените к DataFrame метод `describe()`, который отразит простую статистику по всем **числовым** данным. \n",
    "\n",
    "Но при анализе полученных данных следует быть внимательным и осторожным. \n",
    "\n",
    "_Чтобы понять, что имеется в виду, запустите данный метод для DataFrame `users`._"
   ]
  },
  {
   "cell_type": "code",
   "execution_count": 56,
   "metadata": {
    "id": "4DAUjMwUGGU9"
   },
   "outputs": [
    {
     "data": {
      "text/html": [
       "<div>\n",
       "<style scoped>\n",
       "    .dataframe tbody tr th:only-of-type {\n",
       "        vertical-align: middle;\n",
       "    }\n",
       "\n",
       "    .dataframe tbody tr th {\n",
       "        vertical-align: top;\n",
       "    }\n",
       "\n",
       "    .dataframe thead th {\n",
       "        text-align: right;\n",
       "    }\n",
       "</style>\n",
       "<table border=\"1\" class=\"dataframe\">\n",
       "  <thead>\n",
       "    <tr style=\"text-align: right;\">\n",
       "      <th></th>\n",
       "      <th>user_id</th>\n",
       "      <th>age</th>\n",
       "    </tr>\n",
       "  </thead>\n",
       "  <tbody>\n",
       "    <tr>\n",
       "      <th>count</th>\n",
       "      <td>943.000000</td>\n",
       "      <td>943.000000</td>\n",
       "    </tr>\n",
       "    <tr>\n",
       "      <th>mean</th>\n",
       "      <td>1342.000000</td>\n",
       "      <td>34.051962</td>\n",
       "    </tr>\n",
       "    <tr>\n",
       "      <th>std</th>\n",
       "      <td>544.729902</td>\n",
       "      <td>12.192740</td>\n",
       "    </tr>\n",
       "    <tr>\n",
       "      <th>min</th>\n",
       "      <td>400.000000</td>\n",
       "      <td>7.000000</td>\n",
       "    </tr>\n",
       "    <tr>\n",
       "      <th>25%</th>\n",
       "      <td>871.000000</td>\n",
       "      <td>25.000000</td>\n",
       "    </tr>\n",
       "    <tr>\n",
       "      <th>50%</th>\n",
       "      <td>1342.000000</td>\n",
       "      <td>31.000000</td>\n",
       "    </tr>\n",
       "    <tr>\n",
       "      <th>75%</th>\n",
       "      <td>1813.000000</td>\n",
       "      <td>43.000000</td>\n",
       "    </tr>\n",
       "    <tr>\n",
       "      <th>max</th>\n",
       "      <td>2284.000000</td>\n",
       "      <td>73.000000</td>\n",
       "    </tr>\n",
       "  </tbody>\n",
       "</table>\n",
       "</div>"
      ],
      "text/plain": [
       "           user_id         age\n",
       "count   943.000000  943.000000\n",
       "mean   1342.000000   34.051962\n",
       "std     544.729902   12.192740\n",
       "min     400.000000    7.000000\n",
       "25%     871.000000   25.000000\n",
       "50%    1342.000000   31.000000\n",
       "75%    1813.000000   43.000000\n",
       "max    2284.000000   73.000000"
      ]
     },
     "execution_count": 56,
     "metadata": {},
     "output_type": "execute_result"
    }
   ],
   "source": [
    "users.describe()"
   ]
  },
  {
   "cell_type": "markdown",
   "metadata": {
    "id": "B-Bn1H2JGGU9"
   },
   "source": [
    "Заметим, что в анализ данных включён столбец user_id (т.к. он числовой), хотя его содержимое никак не влияет на результат. Поэтому не стоит обращать на него внимание.\n",
    "\n",
    "По данным, представленным в анализе, можно сделать следующие выводы о возрасте пользователей:\n",
    "- средний возраст пользователей составляет 34 года, самому молодому человеку 7 лет, а самому старому - 73.\n",
    "- медиана равна 31 год, нижняя квартиль -- 25 лет, верхняя -- 43 года.\n"
   ]
  },
  {
   "cell_type": "markdown",
   "metadata": {
    "id": "wWQxPjD0GGU9"
   },
   "source": [
    "**Выбор отдельных столбцов**\n",
    "\n",
    "DataFrame удобны тем, что их можно предсталять как несколько Series (столбцов), сгруппированных вместе, и при необходимости выбирать нужный столбец. \n",
    "\n",
    "При выборе одного столбца из DataFrame вернётся объект типа Series.\n",
    "К примеру, посмотрим род деятельности первых пяти пользователей:"
   ]
  },
  {
   "cell_type": "code",
   "execution_count": 57,
   "metadata": {
    "id": "r3De4cc7GGU-"
   },
   "outputs": [
    {
     "data": {
      "text/plain": [
       "0    technician\n",
       "1         other\n",
       "2        writer\n",
       "3    technician\n",
       "4         other\n",
       "Name: occupation, dtype: object"
      ]
     },
     "execution_count": 57,
     "metadata": {},
     "output_type": "execute_result"
    }
   ],
   "source": [
    "users['occupation'].head()"
   ]
  },
  {
   "cell_type": "markdown",
   "metadata": {
    "id": "r4QuuLdLGGU-"
   },
   "source": [
    "Если имя столбца является корректным именем переменной с точки зрения Python, и переменной или функции с таким названием в DataFrame нет, то доступ к столбцу можно получить не только с помощью оператора [ ]. Pandas автоматически создаёт в DataFrame одноимённые переменные, дающие доступ к столбцу:"
   ]
  },
  {
   "cell_type": "code",
   "execution_count": 58,
   "metadata": {
    "id": "ZsbjwjGPGGU_"
   },
   "outputs": [
    {
     "data": {
      "text/plain": [
       "0    technician\n",
       "1         other\n",
       "2        writer\n",
       "3    technician\n",
       "4         other\n",
       "Name: occupation, dtype: object"
      ]
     },
     "execution_count": 58,
     "metadata": {},
     "output_type": "execute_result"
    }
   ],
   "source": [
    "users.occupation.head()"
   ]
  },
  {
   "cell_type": "markdown",
   "metadata": {
    "id": "WABZVnq5GGU_"
   },
   "source": [
    "Для выбора нескольких столбцов, укажите вместо одного заголовка список заголовков столбцов (_распечатайте значения самостоятельно_):"
   ]
  },
  {
   "cell_type": "code",
   "execution_count": 62,
   "metadata": {
    "id": "mDGVUgU9GGU_"
   },
   "outputs": [
    {
     "name": "stdout",
     "output_type": "stream",
     "text": [
      "     user_id  age sex     occupation zip_code\n",
      "0        400   24   M     technician    85711\n",
      "1        402   53   F          other    94043\n",
      "2        404   23   M         writer    32067\n",
      "3        406   24   M     technician    43537\n",
      "4        408   33   F          other    15213\n",
      "..       ...  ...  ..            ...      ...\n",
      "938     2276   26   F        student    33319\n",
      "939     2278   32   M  administrator    02215\n",
      "940     2280   20   M        student    97229\n",
      "941     2282   48   F      librarian    78209\n",
      "942     2284   22   M        student    77841\n",
      "\n",
      "[943 rows x 5 columns]\n"
     ]
    }
   ],
   "source": [
    "users[['age', 'zip_code']].head()\n",
    "\n",
    "# список также можно хранить в переменной:\n",
    "columns_you_want = ['occupation', 'sex'] \n",
    "#users[columns_you_want].head()\n",
    "print(users)"
   ]
  },
  {
   "cell_type": "markdown",
   "metadata": {
    "id": "zaQBGe0MGGU_"
   },
   "source": [
    "Выбор строк также можно осуществлять разными способами, наиболее простой -- использовать индивидуальные индексы или логическую(булевскую) индексацию:"
   ]
  },
  {
   "cell_type": "code",
   "execution_count": 63,
   "metadata": {
    "id": "2Au7WbjqGGVA"
   },
   "outputs": [
    {
     "data": {
      "text/html": [
       "<div>\n",
       "<style scoped>\n",
       "    .dataframe tbody tr th:only-of-type {\n",
       "        vertical-align: middle;\n",
       "    }\n",
       "\n",
       "    .dataframe tbody tr th {\n",
       "        vertical-align: top;\n",
       "    }\n",
       "\n",
       "    .dataframe thead th {\n",
       "        text-align: right;\n",
       "    }\n",
       "</style>\n",
       "<table border=\"1\" class=\"dataframe\">\n",
       "  <thead>\n",
       "    <tr style=\"text-align: right;\">\n",
       "      <th></th>\n",
       "      <th>user_id</th>\n",
       "      <th>age</th>\n",
       "      <th>sex</th>\n",
       "      <th>occupation</th>\n",
       "      <th>zip_code</th>\n",
       "    </tr>\n",
       "  </thead>\n",
       "  <tbody>\n",
       "    <tr>\n",
       "      <th>0</th>\n",
       "      <td>400</td>\n",
       "      <td>24</td>\n",
       "      <td>M</td>\n",
       "      <td>technician</td>\n",
       "      <td>85711</td>\n",
       "    </tr>\n",
       "    <tr>\n",
       "      <th>1</th>\n",
       "      <td>402</td>\n",
       "      <td>53</td>\n",
       "      <td>F</td>\n",
       "      <td>other</td>\n",
       "      <td>94043</td>\n",
       "    </tr>\n",
       "    <tr>\n",
       "      <th>2</th>\n",
       "      <td>404</td>\n",
       "      <td>23</td>\n",
       "      <td>M</td>\n",
       "      <td>writer</td>\n",
       "      <td>32067</td>\n",
       "    </tr>\n",
       "  </tbody>\n",
       "</table>\n",
       "</div>"
      ],
      "text/plain": [
       "   user_id  age sex  occupation zip_code\n",
       "0      400   24   M  technician    85711\n",
       "1      402   53   F       other    94043\n",
       "2      404   23   M      writer    32067"
      ]
     },
     "execution_count": 63,
     "metadata": {},
     "output_type": "execute_result"
    }
   ],
   "source": [
    "# пользователи старше 25\n",
    "users[users.age > 25].head(3)\n",
    "\n",
    "# пользователи младше 30 или женского пола\n",
    "users[(users.sex == 'F') | (users.age < 30)].head(3)"
   ]
  },
  {
   "cell_type": "markdown",
   "metadata": {
    "id": "Gwa88Q5KGGVA"
   },
   "source": [
    "_Распечатайте 4 первых пользователей мужского пола в возрасте 40 лет:_"
   ]
  },
  {
   "cell_type": "code",
   "execution_count": 5,
   "metadata": {
    "id": "Yg1KFPHKGGVA"
   },
   "outputs": [
    {
     "data": {
      "text/html": [
       "<div>\n",
       "<style scoped>\n",
       "    .dataframe tbody tr th:only-of-type {\n",
       "        vertical-align: middle;\n",
       "    }\n",
       "\n",
       "    .dataframe tbody tr th {\n",
       "        vertical-align: top;\n",
       "    }\n",
       "\n",
       "    .dataframe thead th {\n",
       "        text-align: right;\n",
       "    }\n",
       "</style>\n",
       "<table border=\"1\" class=\"dataframe\">\n",
       "  <thead>\n",
       "    <tr style=\"text-align: right;\">\n",
       "      <th></th>\n",
       "      <th>user_id</th>\n",
       "      <th>age</th>\n",
       "      <th>sex</th>\n",
       "      <th>occupation</th>\n",
       "      <th>zip_code</th>\n",
       "    </tr>\n",
       "  </thead>\n",
       "  <tbody>\n",
       "    <tr>\n",
       "      <th>18</th>\n",
       "      <td>436</td>\n",
       "      <td>40</td>\n",
       "      <td>M</td>\n",
       "      <td>librarian</td>\n",
       "      <td>02138</td>\n",
       "    </tr>\n",
       "    <tr>\n",
       "      <th>82</th>\n",
       "      <td>564</td>\n",
       "      <td>40</td>\n",
       "      <td>M</td>\n",
       "      <td>other</td>\n",
       "      <td>44133</td>\n",
       "    </tr>\n",
       "    <tr>\n",
       "      <th>115</th>\n",
       "      <td>630</td>\n",
       "      <td>40</td>\n",
       "      <td>M</td>\n",
       "      <td>healthcare</td>\n",
       "      <td>97232</td>\n",
       "    </tr>\n",
       "    <tr>\n",
       "      <th>199</th>\n",
       "      <td>798</td>\n",
       "      <td>40</td>\n",
       "      <td>M</td>\n",
       "      <td>programmer</td>\n",
       "      <td>93402</td>\n",
       "    </tr>\n",
       "  </tbody>\n",
       "</table>\n",
       "</div>"
      ],
      "text/plain": [
       "     user_id  age sex  occupation zip_code\n",
       "18       436   40   M   librarian    02138\n",
       "82       564   40   M       other    44133\n",
       "115      630   40   M  healthcare    97232\n",
       "199      798   40   M  programmer    93402"
      ]
     },
     "execution_count": 5,
     "metadata": {},
     "output_type": "execute_result"
    }
   ],
   "source": [
    "users[(users.age == 40) & (users.sex == 'M')].head(4)"
   ]
  },
  {
   "cell_type": "markdown",
   "metadata": {
    "id": "pRTqGElqGGVB"
   },
   "source": [
    "Теперь обратим внимание на индексацию строк.\n",
    "\n",
    "В данный момент строчные индексы не несут в себе никакого смысла. Установим в качестве индексов значения из столбца `user_id`, используя метод `set_index()`:"
   ]
  },
  {
   "cell_type": "code",
   "execution_count": 83,
   "metadata": {
    "id": "OxEB-ABnGGVB"
   },
   "outputs": [
    {
     "name": "stdout",
     "output_type": "stream",
     "text": [
      "         age sex  occupation zip_code\n",
      "user_id                              \n",
      "400       24   M  technician    85711\n",
      "402       53   F       other    94043\n",
      "404       23   M      writer    32067\n",
      "406       24   M  technician    43537\n",
      "408       33   F       other    15213\n",
      "\n",
      "\n",
      "   user_id  age sex  occupation zip_code\n",
      "0      400   24   M  technician    85711\n",
      "1      402   53   F       other    94043\n",
      "2      404   23   M      writer    32067\n",
      "3      406   24   M  technician    43537\n",
      "4      408   33   F       other    15213\n"
     ]
    }
   ],
   "source": [
    "print(users.set_index('user_id').head()) #распечатаем то, что должно теперь получиться в DataFrame\n",
    "print('\\n')\n",
    " \n",
    "print(users.head()) #что теперь лежит в DataFrame"
   ]
  },
  {
   "cell_type": "markdown",
   "metadata": {
    "id": "VONue9vDGGVB"
   },
   "source": [
    "Обратите внимание на содержимое DataFrame `users`. Изменилось ли оно?"
   ]
  },
  {
   "cell_type": "markdown",
   "metadata": {
    "id": "FrcU8BiwGGVB"
   },
   "source": [
    "Дело в том, что функция `set_index()` не изменяет текущий, а возвращает новый DataFrame и его нужно куда-то сохранить:"
   ]
  },
  {
   "cell_type": "code",
   "execution_count": 91,
   "metadata": {
    "id": "jPYiQaoPGGVC"
   },
   "outputs": [
    {
     "name": "stdout",
     "output_type": "stream",
     "text": [
      "new users: \n",
      "          age sex  occupation zip_code\n",
      "user_id                              \n",
      "400       24   M  technician    85711\n",
      "402       53   F       other    94043\n",
      "404       23   M      writer    32067\n",
      "406       24   M  technician    43537\n",
      "408       33   F       other    15213\n",
      "\n",
      "\n",
      "old users: \n",
      "    user_id  age sex  occupation zip_code\n",
      "0      400   24   M  technician    85711\n",
      "1      402   53   F       other    94043\n",
      "2      404   23   M      writer    32067\n",
      "3      406   24   M  technician    43537\n",
      "4      408   33   F       other    15213\n"
     ]
    }
   ],
   "source": [
    "with_new_index = users.set_index('user_id')\n",
    "\n",
    "print('new users: \\n', with_new_index.head())\n",
    "print('\\n')\n",
    "print('old users: \\n', users.head())"
   ]
  },
  {
   "cell_type": "markdown",
   "metadata": {
    "id": "ZiYi6ZP3GGVC"
   },
   "source": [
    "Будьте внимательны при работе с функциями такого рода.\n",
    "\n",
    "Добавьте в функцию `set_index()` параметр `inplace=True` и проверьте его работу для DataFrame users."
   ]
  },
  {
   "cell_type": "code",
   "execution_count": 116,
   "metadata": {
    "id": "glujTmibGGVC"
   },
   "outputs": [
    {
     "name": "stdout",
     "output_type": "stream",
     "text": [
      "         age sex  occupation zip_code\n",
      "user_id                              \n",
      "400       24   M  technician    85711\n",
      "402       53   F       other    94043\n",
      "404       23   M      writer    32067\n",
      "406       24   M  technician    43537\n",
      "408       33   F       other    15213\n"
     ]
    }
   ],
   "source": [
    "users.set_index('user_id',inplace=True)\n",
    "print(users.head())"
   ]
  },
  {
   "cell_type": "markdown",
   "metadata": {
    "id": "mcdr36X7GGVC"
   },
   "source": [
    "__*Что изменилось? Результат запишите в данном поле после двоеточия:*  мы изменяем заголовок без создания нового DataFrame__"
   ]
  },
  {
   "cell_type": "markdown",
   "metadata": {
    "id": "5PKaKyHAGGVC"
   },
   "source": [
    "Обратим внимание на то, что мы заменили общепринятую индексацию с нуля содержанием столбца user_id. \n",
    "\n",
    "Но ничего страшного, мы всё ещё можем выбирать строки по индексам, используя метод `iloc[]`:"
   ]
  },
  {
   "cell_type": "code",
   "execution_count": 117,
   "metadata": {
    "id": "dlw1XGNRGGVC"
   },
   "outputs": [
    {
     "name": "stdout",
     "output_type": "stream",
     "text": [
      "age                  36\n",
      "sex                   M\n",
      "occupation    executive\n",
      "zip_code          90254\n",
      "Name: 598, dtype: object\n",
      "\n",
      "\n",
      "         age sex occupation zip_code\n",
      "user_id                             \n",
      "402       53   F      other    94043\n",
      "500       28   M   educator    16509\n",
      "1000      24   M    student    55439\n"
     ]
    }
   ],
   "source": [
    "print(users.iloc[99])\n",
    "print('\\n')\n",
    "print(users.iloc[[1, 50, 300]]) #индексация с помощью списка"
   ]
  },
  {
   "cell_type": "markdown",
   "metadata": {
    "id": "Sc8fd-g4GGVC"
   },
   "source": [
    "Заметим, что для DataFrame действует механизм срезов.\n",
    "\n",
    "_Проверьте, работает ли в функции `iloc[]` индексация с использованием срезов:_"
   ]
  },
  {
   "cell_type": "code",
   "execution_count": 118,
   "metadata": {
    "id": "TI2FHXD6GGVD"
   },
   "outputs": [
    {
     "name": "stdout",
     "output_type": "stream",
     "text": [
      "         age sex     occupation zip_code\n",
      "user_id                                 \n",
      "400       24   M     technician    85711\n",
      "404       23   M         writer    32067\n",
      "408       33   F          other    15213\n",
      "412       57   M  administrator    91344\n",
      "416       29   M        student    01002\n",
      "...      ...  ..            ...      ...\n",
      "2268      42   M         doctor    66221\n",
      "2272      48   M       educator    98072\n",
      "2276      26   F        student    33319\n",
      "2280      20   M        student    97229\n",
      "2284      22   M        student    77841\n",
      "\n",
      "[472 rows x 4 columns]\n"
     ]
    }
   ],
   "source": [
    "print(users.iloc[::2])"
   ]
  },
  {
   "cell_type": "markdown",
   "metadata": {
    "id": "Op18HcG1GGVD"
   },
   "source": [
    "Строки можно выбирать не только по индексам, но и по установленным нами значениям меток (значениям из столбца user_id). Для этого воспользуемся функцией `loc[]`:"
   ]
  },
  {
   "cell_type": "code",
   "execution_count": 122,
   "metadata": {
    "id": "c7iVdhAKGGVD"
   },
   "outputs": [
    {
     "name": "stdout",
     "output_type": "stream",
     "text": [
      "user_id           600\n",
      "age                15\n",
      "sex                 M\n",
      "occupation    student\n",
      "zip_code        05146\n",
      "Name: 100, dtype: object\n"
     ]
    }
   ],
   "source": [
    "print(users.loc[100])"
   ]
  },
  {
   "cell_type": "markdown",
   "metadata": {
    "id": "-P1-HZVFGGVD"
   },
   "source": [
    "_Используя функцию `loc[]`, выберите значения из users:_"
   ]
  },
  {
   "cell_type": "code",
   "execution_count": 123,
   "metadata": {
    "id": "F553bzo2GGVD"
   },
   "outputs": [
    {
     "name": "stdout",
     "output_type": "stream",
     "text": [
      "user_id              602\n",
      "age                   38\n",
      "sex                    M\n",
      "occupation    programmer\n",
      "zip_code           30220\n",
      "Name: 101, dtype: object\n"
     ]
    }
   ],
   "source": [
    "print(users.loc[101])"
   ]
  },
  {
   "cell_type": "markdown",
   "metadata": {
    "id": "lTBps_u-GGVD"
   },
   "source": [
    "*Стало понятно, что, возможно, мы зря установили столбец user_id в качестве индекса. Чтобы всё вернуть на место, используйте фунцию `reset_index()`. Не забудьте про параметр `inplace`! Проверьте с помощью `head()`, что DataFrame выглядит как раньше.*"
   ]
  },
  {
   "cell_type": "code",
   "execution_count": 136,
   "metadata": {
    "id": "0NSW6g1jGGVE"
   },
   "outputs": [
    {
     "data": {
      "text/html": [
       "<div>\n",
       "<style scoped>\n",
       "    .dataframe tbody tr th:only-of-type {\n",
       "        vertical-align: middle;\n",
       "    }\n",
       "\n",
       "    .dataframe tbody tr th {\n",
       "        vertical-align: top;\n",
       "    }\n",
       "\n",
       "    .dataframe thead th {\n",
       "        text-align: right;\n",
       "    }\n",
       "</style>\n",
       "<table border=\"1\" class=\"dataframe\">\n",
       "  <thead>\n",
       "    <tr style=\"text-align: right;\">\n",
       "      <th></th>\n",
       "      <th>index</th>\n",
       "      <th>user_id</th>\n",
       "      <th>age</th>\n",
       "      <th>sex</th>\n",
       "      <th>occupation</th>\n",
       "      <th>zip_code</th>\n",
       "    </tr>\n",
       "  </thead>\n",
       "  <tbody>\n",
       "    <tr>\n",
       "      <th>0</th>\n",
       "      <td>0</td>\n",
       "      <td>400</td>\n",
       "      <td>24</td>\n",
       "      <td>M</td>\n",
       "      <td>technician</td>\n",
       "      <td>85711</td>\n",
       "    </tr>\n",
       "    <tr>\n",
       "      <th>1</th>\n",
       "      <td>1</td>\n",
       "      <td>402</td>\n",
       "      <td>53</td>\n",
       "      <td>F</td>\n",
       "      <td>other</td>\n",
       "      <td>94043</td>\n",
       "    </tr>\n",
       "    <tr>\n",
       "      <th>2</th>\n",
       "      <td>2</td>\n",
       "      <td>404</td>\n",
       "      <td>23</td>\n",
       "      <td>M</td>\n",
       "      <td>writer</td>\n",
       "      <td>32067</td>\n",
       "    </tr>\n",
       "    <tr>\n",
       "      <th>3</th>\n",
       "      <td>3</td>\n",
       "      <td>406</td>\n",
       "      <td>24</td>\n",
       "      <td>M</td>\n",
       "      <td>technician</td>\n",
       "      <td>43537</td>\n",
       "    </tr>\n",
       "    <tr>\n",
       "      <th>4</th>\n",
       "      <td>4</td>\n",
       "      <td>408</td>\n",
       "      <td>33</td>\n",
       "      <td>F</td>\n",
       "      <td>other</td>\n",
       "      <td>15213</td>\n",
       "    </tr>\n",
       "  </tbody>\n",
       "</table>\n",
       "</div>"
      ],
      "text/plain": [
       "   index  user_id  age sex  occupation zip_code\n",
       "0      0      400   24   M  technician    85711\n",
       "1      1      402   53   F       other    94043\n",
       "2      2      404   23   M      writer    32067\n",
       "3      3      406   24   M  technician    43537\n",
       "4      4      408   33   F       other    15213"
      ]
     },
     "execution_count": 136,
     "metadata": {},
     "output_type": "execute_result"
    }
   ],
   "source": [
    "users.reset_index(inplace =True)\n",
    "users.head()"
   ]
  },
  {
   "cell_type": "markdown",
   "metadata": {
    "id": "ay2J9ITZGGVE"
   },
   "source": [
    "Таким образом, есть 2 основные функции для индексации:\n",
    "1. `loc[]` для индексации по значениям меток;\n",
    "2. `iloc[]` для определения по позиции по счёту (с нуля), не обращая внимания на значения меток."
   ]
  },
  {
   "cell_type": "markdown",
   "metadata": {
    "id": "Qquj8OuUGGVE"
   },
   "source": [
    "_Поработайте с функциями `loc[]` и `iloc[]` в коде ниже._\n",
    "\n",
    "_Попробуйте с помощью `loc` выбрать среди всех чисел те, у которых в стобце 'A' записаны значения, превышающие 0.5:_"
   ]
  },
  {
   "cell_type": "code",
   "execution_count": 304,
   "metadata": {
    "id": "S31VtJx0GGVE"
   },
   "outputs": [
    {
     "name": "stdout",
     "output_type": "stream",
     "text": [
      "          A         B         C         D\n",
      "a  1.088585  1.673303  1.099325  0.364998\n",
      "b  1.862824 -0.154885  0.930129  0.143395\n",
      "c -1.393243  0.959608 -0.910652 -0.194743\n",
      "d -0.903563 -1.009849  1.758464 -0.894579\n",
      "e -0.475582  0.734588 -0.282511  1.129542\n",
      "f  0.352334 -0.161404 -1.904922  0.630840\n",
      "g -0.070004  1.518817 -0.551718  0.636888\n",
      "h  1.922215 -2.698494  0.373259  0.091090\n",
      "i -1.760354  0.089604 -0.641115  0.145013\n",
      "j -0.990653 -1.279319  1.046886  0.737755\n",
      "k  1.127785  1.358429  0.915669 -0.400436\n",
      "l  0.538722 -1.626295 -2.039002 -0.071811\n",
      "m -0.290334 -0.026068  0.610378 -1.358676\n",
      "n  0.089867  1.926739  0.662135  0.090796\n",
      "o  0.060707 -2.009308 -0.587924  1.438528\n",
      "p  2.030371  1.805353 -1.429767  0.307039\n"
     ]
    },
    {
     "data": {
      "text/html": [
       "<div>\n",
       "<style scoped>\n",
       "    .dataframe tbody tr th:only-of-type {\n",
       "        vertical-align: middle;\n",
       "    }\n",
       "\n",
       "    .dataframe tbody tr th {\n",
       "        vertical-align: top;\n",
       "    }\n",
       "\n",
       "    .dataframe thead th {\n",
       "        text-align: right;\n",
       "    }\n",
       "</style>\n",
       "<table border=\"1\" class=\"dataframe\">\n",
       "  <thead>\n",
       "    <tr style=\"text-align: right;\">\n",
       "      <th></th>\n",
       "      <th>A</th>\n",
       "      <th>B</th>\n",
       "      <th>C</th>\n",
       "      <th>D</th>\n",
       "    </tr>\n",
       "  </thead>\n",
       "  <tbody>\n",
       "    <tr>\n",
       "      <th>a</th>\n",
       "      <td>1.088585</td>\n",
       "      <td>1.673303</td>\n",
       "      <td>1.099325</td>\n",
       "      <td>0.364998</td>\n",
       "    </tr>\n",
       "    <tr>\n",
       "      <th>b</th>\n",
       "      <td>1.862824</td>\n",
       "      <td>-0.154885</td>\n",
       "      <td>0.930129</td>\n",
       "      <td>0.143395</td>\n",
       "    </tr>\n",
       "    <tr>\n",
       "      <th>h</th>\n",
       "      <td>1.922215</td>\n",
       "      <td>-2.698494</td>\n",
       "      <td>0.373259</td>\n",
       "      <td>0.091090</td>\n",
       "    </tr>\n",
       "    <tr>\n",
       "      <th>k</th>\n",
       "      <td>1.127785</td>\n",
       "      <td>1.358429</td>\n",
       "      <td>0.915669</td>\n",
       "      <td>-0.400436</td>\n",
       "    </tr>\n",
       "    <tr>\n",
       "      <th>l</th>\n",
       "      <td>0.538722</td>\n",
       "      <td>-1.626295</td>\n",
       "      <td>-2.039002</td>\n",
       "      <td>-0.071811</td>\n",
       "    </tr>\n",
       "    <tr>\n",
       "      <th>p</th>\n",
       "      <td>2.030371</td>\n",
       "      <td>1.805353</td>\n",
       "      <td>-1.429767</td>\n",
       "      <td>0.307039</td>\n",
       "    </tr>\n",
       "  </tbody>\n",
       "</table>\n",
       "</div>"
      ],
      "text/plain": [
       "          A         B         C         D\n",
       "a  1.088585  1.673303  1.099325  0.364998\n",
       "b  1.862824 -0.154885  0.930129  0.143395\n",
       "h  1.922215 -2.698494  0.373259  0.091090\n",
       "k  1.127785  1.358429  0.915669 -0.400436\n",
       "l  0.538722 -1.626295 -2.039002 -0.071811\n",
       "p  2.030371  1.805353 -1.429767  0.307039"
      ]
     },
     "execution_count": 304,
     "metadata": {},
     "output_type": "execute_result"
    }
   ],
   "source": [
    "df1 = pd.DataFrame(np.random.randn(16,4), index=list('abcdefghijklmnop'), columns=list('ABCD'))\n",
    "print(df1)\n",
    "\n",
    "df1.loc[df1.A >0.5]"
   ]
  },
  {
   "cell_type": "markdown",
   "metadata": {
    "id": "jMEJW2UkGGVE"
   },
   "source": [
    "**Объединение DataFrame**\n",
    "\n",
    "В процессе проведения анализа данных бывают ситуации, когда требуется объединить наборы данных, т.к. данные обычно хранятся в реляционном стиле.\n",
    "\n",
    "Данные MovieLens является хорошим примером реляционных отношений -- рейтинг(ratings) требует информацию и от пользователей(users), и от фильмов (movies) и получается, что наборы данных связаны между собой по ключу -- в данном случае user_id и movie_id. \n",
    "\n",
    "При этом пользователь может быть связан как с большим количеаством фильмов и рейтингов, так и не иметь таких связей. Аналогичная ситуация и с фильмом -- его могут оценить и несколько раз, и один, и не оценивать вообще, и при этом различным числом пользователей.\n",
    "\n",
    "По аналогии с функцией JOIN в SQL `pd.merge` позволяет объединить два DataFrame по одному или нескольким ключам. У данной функции множество параметров: on, left_on, right_on, left_index, right_index и др., позволяющих задать столбцы или индексы, по которым требуется объединить наборы данных.\n",
    "\n",
    "Разные типа объединений SQL представлены на рисунке:\n",
    "<img src=\"img/JOIN.png\">\n",
    "\n",
    "По умолчанию `pd.merge()` ведёт себя как операция inner join, данное поведение меняется с помощью параметра `how`. \n",
    "\n",
    "Возможные варианты значения параметра `how`: `{'left', 'right', 'outer', 'inner'}`.\n",
    "\n",
    "В примере ниже в параметре `how` указан вариант для inner join -- `inner`. "
   ]
  },
  {
   "cell_type": "code",
   "execution_count": 154,
   "metadata": {
    "id": "-owFwUUBGGVE"
   },
   "outputs": [
    {
     "data": {
      "text/html": [
       "<div>\n",
       "<style scoped>\n",
       "    .dataframe tbody tr th:only-of-type {\n",
       "        vertical-align: middle;\n",
       "    }\n",
       "\n",
       "    .dataframe tbody tr th {\n",
       "        vertical-align: top;\n",
       "    }\n",
       "\n",
       "    .dataframe thead th {\n",
       "        text-align: right;\n",
       "    }\n",
       "</style>\n",
       "<table border=\"1\" class=\"dataframe\">\n",
       "  <thead>\n",
       "    <tr style=\"text-align: right;\">\n",
       "      <th></th>\n",
       "      <th>key</th>\n",
       "      <th>left_value</th>\n",
       "      <th>right_value</th>\n",
       "    </tr>\n",
       "  </thead>\n",
       "  <tbody>\n",
       "    <tr>\n",
       "      <th>0</th>\n",
       "      <td>2</td>\n",
       "      <td>c</td>\n",
       "      <td>f</td>\n",
       "    </tr>\n",
       "    <tr>\n",
       "      <th>1</th>\n",
       "      <td>3</td>\n",
       "      <td>d</td>\n",
       "      <td>g</td>\n",
       "    </tr>\n",
       "    <tr>\n",
       "      <th>2</th>\n",
       "      <td>4</td>\n",
       "      <td>e</td>\n",
       "      <td>h</td>\n",
       "    </tr>\n",
       "  </tbody>\n",
       "</table>\n",
       "</div>"
      ],
      "text/plain": [
       "   key left_value right_value\n",
       "0    2          c           f\n",
       "1    3          d           g\n",
       "2    4          e           h"
      ]
     },
     "execution_count": 154,
     "metadata": {},
     "output_type": "execute_result"
    }
   ],
   "source": [
    "left_frame = pd.DataFrame({'key': range(5), 'left_value': ['a', 'b', 'c', 'd', 'e']})\n",
    "right_frame = pd.DataFrame({'key': range(2, 7), 'right_value': ['f', 'g', 'h', 'i', 'j']})\n",
    "pd.merge(left_frame, right_frame, on='key', how='inner')"
   ]
  },
  {
   "cell_type": "markdown",
   "metadata": {
    "id": "ELMce2aWGGVE"
   },
   "source": [
    "__*Какие из значений `left_frame` и `right_frame` были объединены в результате работы `pd.merge`? Ответ напишите после двоеточия: * значения с 2 по 4 из (range(5) и range(2,7)) __"
   ]
  },
  {
   "cell_type": "markdown",
   "metadata": {
    "id": "5YtiOVW6GGVF"
   },
   "source": [
    "В случае, если название ключевых столбцов двух DataFrame не совпадают, можно прописать необходимые ключи:"
   ]
  },
  {
   "cell_type": "code",
   "execution_count": 155,
   "metadata": {
    "id": "qDMD12ApGGVF"
   },
   "outputs": [
    {
     "data": {
      "text/html": [
       "<div>\n",
       "<style scoped>\n",
       "    .dataframe tbody tr th:only-of-type {\n",
       "        vertical-align: middle;\n",
       "    }\n",
       "\n",
       "    .dataframe tbody tr th {\n",
       "        vertical-align: top;\n",
       "    }\n",
       "\n",
       "    .dataframe thead th {\n",
       "        text-align: right;\n",
       "    }\n",
       "</style>\n",
       "<table border=\"1\" class=\"dataframe\">\n",
       "  <thead>\n",
       "    <tr style=\"text-align: right;\">\n",
       "      <th></th>\n",
       "      <th>left_key</th>\n",
       "      <th>left_value</th>\n",
       "      <th>right_key</th>\n",
       "      <th>right_value</th>\n",
       "    </tr>\n",
       "  </thead>\n",
       "  <tbody>\n",
       "    <tr>\n",
       "      <th>0</th>\n",
       "      <td>2</td>\n",
       "      <td>c</td>\n",
       "      <td>2</td>\n",
       "      <td>f</td>\n",
       "    </tr>\n",
       "    <tr>\n",
       "      <th>1</th>\n",
       "      <td>3</td>\n",
       "      <td>d</td>\n",
       "      <td>3</td>\n",
       "      <td>g</td>\n",
       "    </tr>\n",
       "    <tr>\n",
       "      <th>2</th>\n",
       "      <td>4</td>\n",
       "      <td>e</td>\n",
       "      <td>4</td>\n",
       "      <td>h</td>\n",
       "    </tr>\n",
       "  </tbody>\n",
       "</table>\n",
       "</div>"
      ],
      "text/plain": [
       "   left_key left_value  right_key right_value\n",
       "0         2          c          2           f\n",
       "1         3          d          3           g\n",
       "2         4          e          4           h"
      ]
     },
     "execution_count": 155,
     "metadata": {},
     "output_type": "execute_result"
    }
   ],
   "source": [
    "left_frame = pd.DataFrame({'left_key': range(5), 'left_value': ['a', 'b', 'c', 'd', 'e']})\n",
    "right_frame = pd.DataFrame({'right_key': range(2, 7), 'right_value': ['f', 'g', 'h', 'i', 'j']})\n",
    "pd.merge(left_frame, right_frame, left_on='left_key', right_on='right_key')"
   ]
  },
  {
   "cell_type": "markdown",
   "metadata": {
    "id": "dEHEqe_DGGVF"
   },
   "source": [
    "Что получится в результате выполнения операции pd.merge() в случае, если параметр `how` = `left`, или `right`, или `outer`?\n",
    "Проведите исследование на подходящем примере и ответьте на вопрос в поле ниже, чем поле кода."
   ]
  },
  {
   "cell_type": "code",
   "execution_count": 161,
   "metadata": {
    "id": "OqolL3n4GGVF"
   },
   "outputs": [
    {
     "name": "stdout",
     "output_type": "stream",
     "text": [
      "   key left_value right_value\n",
      "0    0          a         NaN\n",
      "1    1          b         NaN\n",
      "2    2          c           f\n",
      "3    3          d           g\n",
      "4    4          e           h\n",
      "\n",
      "\n",
      "   key left_value right_value\n",
      "0    2          c           f\n",
      "1    3          d           g\n",
      "2    4          e           h\n",
      "3    5        NaN           i\n",
      "4    6        NaN           j\n",
      "\n",
      "\n",
      "   key left_value right_value\n",
      "0    0          a         NaN\n",
      "1    1          b         NaN\n",
      "2    2          c           f\n",
      "3    3          d           g\n",
      "4    4          e           h\n",
      "5    5        NaN           i\n",
      "6    6        NaN           j\n"
     ]
    }
   ],
   "source": [
    "left_frame = pd.DataFrame({'key': range(5), 'left_value': ['a', 'b', 'c', 'd', 'e']})\n",
    "right_frame = pd.DataFrame({'key': range(2, 7), 'right_value': ['f', 'g', 'h', 'i', 'j']})\n",
    "print(pd.merge(left_frame, right_frame, how = 'left'))\n",
    "print('\\n')\n",
    "print(pd.merge(left_frame, right_frame, how = 'right'))\n",
    "print('\\n')\n",
    "print(pd.merge(left_frame, right_frame, how = 'outer'))"
   ]
  },
  {
   "cell_type": "markdown",
   "metadata": {
    "collapsed": true,
    "id": "9XY1flzbGGVF"
   },
   "source": [
    "**`left`**: Берет все значения из left_frame и значения которые будут совпадать с right_frame (left_frame = right_frame)\n",
    "\n",
    "**`right`**:Аналогично, только для right_frame\n",
    "\n",
    "**`outer`**:Взял все значения из обоих таблиц"
   ]
  },
  {
   "cell_type": "markdown",
   "metadata": {
    "collapsed": true,
    "id": "OPLzZECQGGVF"
   },
   "source": [
    "**Объединение наборов данных**\n",
    "\n",
    "Функционал Pandas позволяет соединять DataFrame по любому из измерений (axes) с помощью функции `pd.concat()`. Данная функция в некотором смысле эквивалентна операции UNION из SQL.\n",
    "\n",
    "Функция `pd.concat()` принимает на вход список Series или DataFrame и возвращает Series или DataFrame соединённых объектов. Заметим, что т.к. `pd.concat()` принимает на вход список, то это даёт возможность соединить сразу несколько наборов данных.\n"
   ]
  },
  {
   "cell_type": "code",
   "execution_count": 162,
   "metadata": {
    "id": "kLujhbvLGGVG"
   },
   "outputs": [
    {
     "data": {
      "text/html": [
       "<div>\n",
       "<style scoped>\n",
       "    .dataframe tbody tr th:only-of-type {\n",
       "        vertical-align: middle;\n",
       "    }\n",
       "\n",
       "    .dataframe tbody tr th {\n",
       "        vertical-align: top;\n",
       "    }\n",
       "\n",
       "    .dataframe thead th {\n",
       "        text-align: right;\n",
       "    }\n",
       "</style>\n",
       "<table border=\"1\" class=\"dataframe\">\n",
       "  <thead>\n",
       "    <tr style=\"text-align: right;\">\n",
       "      <th></th>\n",
       "      <th>key</th>\n",
       "      <th>left_value</th>\n",
       "      <th>right_value</th>\n",
       "    </tr>\n",
       "  </thead>\n",
       "  <tbody>\n",
       "    <tr>\n",
       "      <th>0</th>\n",
       "      <td>0</td>\n",
       "      <td>a</td>\n",
       "      <td>NaN</td>\n",
       "    </tr>\n",
       "    <tr>\n",
       "      <th>1</th>\n",
       "      <td>1</td>\n",
       "      <td>b</td>\n",
       "      <td>NaN</td>\n",
       "    </tr>\n",
       "    <tr>\n",
       "      <th>2</th>\n",
       "      <td>2</td>\n",
       "      <td>c</td>\n",
       "      <td>NaN</td>\n",
       "    </tr>\n",
       "    <tr>\n",
       "      <th>3</th>\n",
       "      <td>3</td>\n",
       "      <td>d</td>\n",
       "      <td>NaN</td>\n",
       "    </tr>\n",
       "    <tr>\n",
       "      <th>4</th>\n",
       "      <td>4</td>\n",
       "      <td>e</td>\n",
       "      <td>NaN</td>\n",
       "    </tr>\n",
       "    <tr>\n",
       "      <th>0</th>\n",
       "      <td>2</td>\n",
       "      <td>NaN</td>\n",
       "      <td>f</td>\n",
       "    </tr>\n",
       "    <tr>\n",
       "      <th>1</th>\n",
       "      <td>3</td>\n",
       "      <td>NaN</td>\n",
       "      <td>g</td>\n",
       "    </tr>\n",
       "    <tr>\n",
       "      <th>2</th>\n",
       "      <td>4</td>\n",
       "      <td>NaN</td>\n",
       "      <td>h</td>\n",
       "    </tr>\n",
       "    <tr>\n",
       "      <th>3</th>\n",
       "      <td>5</td>\n",
       "      <td>NaN</td>\n",
       "      <td>i</td>\n",
       "    </tr>\n",
       "    <tr>\n",
       "      <th>4</th>\n",
       "      <td>6</td>\n",
       "      <td>NaN</td>\n",
       "      <td>j</td>\n",
       "    </tr>\n",
       "  </tbody>\n",
       "</table>\n",
       "</div>"
      ],
      "text/plain": [
       "   key left_value right_value\n",
       "0    0          a         NaN\n",
       "1    1          b         NaN\n",
       "2    2          c         NaN\n",
       "3    3          d         NaN\n",
       "4    4          e         NaN\n",
       "0    2        NaN           f\n",
       "1    3        NaN           g\n",
       "2    4        NaN           h\n",
       "3    5        NaN           i\n",
       "4    6        NaN           j"
      ]
     },
     "execution_count": 162,
     "metadata": {},
     "output_type": "execute_result"
    }
   ],
   "source": [
    "pd.concat([left_frame, right_frame])"
   ]
  },
  {
   "cell_type": "markdown",
   "metadata": {
    "collapsed": true,
    "id": "8JkGH38LGGVG"
   },
   "source": [
    "По умолчанию функция присоединяет наборы данных друг к другу по вертикали, комбинируя столбцы с одинаковыми именами. И все недостающие значения помечаются как NULL. \n",
    "\n",
    "Чтобы склеить наборы данных по другим осям, можно использовать параметр `axis`.  Справка для этой функции доступна по ссылке: https://pandas.pydata.org/pandas-docs/stable/reference/api/pandas.concat.html\n",
    "\n",
    "*Установите значение параметра `axis` равное 1 и проверьте результат выполнения операции pd.concat для наборов данных left_frame и right_frame.*"
   ]
  },
  {
   "cell_type": "code",
   "execution_count": 163,
   "metadata": {
    "id": "NjjnlgXNGGVG"
   },
   "outputs": [
    {
     "data": {
      "text/html": [
       "<div>\n",
       "<style scoped>\n",
       "    .dataframe tbody tr th:only-of-type {\n",
       "        vertical-align: middle;\n",
       "    }\n",
       "\n",
       "    .dataframe tbody tr th {\n",
       "        vertical-align: top;\n",
       "    }\n",
       "\n",
       "    .dataframe thead th {\n",
       "        text-align: right;\n",
       "    }\n",
       "</style>\n",
       "<table border=\"1\" class=\"dataframe\">\n",
       "  <thead>\n",
       "    <tr style=\"text-align: right;\">\n",
       "      <th></th>\n",
       "      <th>key</th>\n",
       "      <th>left_value</th>\n",
       "      <th>key</th>\n",
       "      <th>right_value</th>\n",
       "    </tr>\n",
       "  </thead>\n",
       "  <tbody>\n",
       "    <tr>\n",
       "      <th>0</th>\n",
       "      <td>0</td>\n",
       "      <td>a</td>\n",
       "      <td>2</td>\n",
       "      <td>f</td>\n",
       "    </tr>\n",
       "    <tr>\n",
       "      <th>1</th>\n",
       "      <td>1</td>\n",
       "      <td>b</td>\n",
       "      <td>3</td>\n",
       "      <td>g</td>\n",
       "    </tr>\n",
       "    <tr>\n",
       "      <th>2</th>\n",
       "      <td>2</td>\n",
       "      <td>c</td>\n",
       "      <td>4</td>\n",
       "      <td>h</td>\n",
       "    </tr>\n",
       "    <tr>\n",
       "      <th>3</th>\n",
       "      <td>3</td>\n",
       "      <td>d</td>\n",
       "      <td>5</td>\n",
       "      <td>i</td>\n",
       "    </tr>\n",
       "    <tr>\n",
       "      <th>4</th>\n",
       "      <td>4</td>\n",
       "      <td>e</td>\n",
       "      <td>6</td>\n",
       "      <td>j</td>\n",
       "    </tr>\n",
       "  </tbody>\n",
       "</table>\n",
       "</div>"
      ],
      "text/plain": [
       "   key left_value  key right_value\n",
       "0    0          a    2           f\n",
       "1    1          b    3           g\n",
       "2    2          c    4           h\n",
       "3    3          d    5           i\n",
       "4    4          e    6           j"
      ]
     },
     "execution_count": 163,
     "metadata": {},
     "output_type": "execute_result"
    }
   ],
   "source": [
    "pd.concat([left_frame, right_frame],axis = 1)"
   ]
  },
  {
   "cell_type": "markdown",
   "metadata": {
    "collapsed": true,
    "id": "Y3YylY2nGGVG"
   },
   "source": [
    "**Функции преобразования данных и их агрегирование**\n",
    "\n",
    "Библиотека Pandas богата на методы для манипуляции с данными. \n",
    "Наиболее распространёнными являются следующие: `groupby`, `aggregate` , `filter`, `merge`, `transform ` и пр. \n",
    "\n",
    "Попробуем разобраться с преобразованием данных на примере. \n",
    "\n",
    "Проанализируем маленький набор данных о продажах, состоящий из 12 строк. Для просмотра данных запустите код ниже:"
   ]
  },
  {
   "cell_type": "code",
   "execution_count": 109,
   "metadata": {
    "id": "Rc4lhhpNGGVG"
   },
   "outputs": [
    {
     "data": {
      "text/html": [
       "<div>\n",
       "<style scoped>\n",
       "    .dataframe tbody tr th:only-of-type {\n",
       "        vertical-align: middle;\n",
       "    }\n",
       "\n",
       "    .dataframe tbody tr th {\n",
       "        vertical-align: top;\n",
       "    }\n",
       "\n",
       "    .dataframe thead th {\n",
       "        text-align: right;\n",
       "    }\n",
       "</style>\n",
       "<table border=\"1\" class=\"dataframe\">\n",
       "  <thead>\n",
       "    <tr style=\"text-align: right;\">\n",
       "      <th></th>\n",
       "      <th>account</th>\n",
       "      <th>name</th>\n",
       "      <th>order</th>\n",
       "      <th>sku</th>\n",
       "      <th>quantity</th>\n",
       "      <th>unit price</th>\n",
       "      <th>ext price</th>\n",
       "    </tr>\n",
       "  </thead>\n",
       "  <tbody>\n",
       "    <tr>\n",
       "      <th>0</th>\n",
       "      <td>383080</td>\n",
       "      <td>Will LLC</td>\n",
       "      <td>10001</td>\n",
       "      <td>B1-20000</td>\n",
       "      <td>7</td>\n",
       "      <td>33.69</td>\n",
       "      <td>235.83</td>\n",
       "    </tr>\n",
       "    <tr>\n",
       "      <th>1</th>\n",
       "      <td>383080</td>\n",
       "      <td>Will LLC</td>\n",
       "      <td>10001</td>\n",
       "      <td>S1-27722</td>\n",
       "      <td>11</td>\n",
       "      <td>21.12</td>\n",
       "      <td>232.32</td>\n",
       "    </tr>\n",
       "    <tr>\n",
       "      <th>2</th>\n",
       "      <td>383080</td>\n",
       "      <td>Will LLC</td>\n",
       "      <td>10001</td>\n",
       "      <td>B1-86481</td>\n",
       "      <td>3</td>\n",
       "      <td>35.99</td>\n",
       "      <td>107.97</td>\n",
       "    </tr>\n",
       "    <tr>\n",
       "      <th>3</th>\n",
       "      <td>412290</td>\n",
       "      <td>Jerde-Hilpert</td>\n",
       "      <td>10005</td>\n",
       "      <td>S1-06532</td>\n",
       "      <td>48</td>\n",
       "      <td>55.82</td>\n",
       "      <td>2679.36</td>\n",
       "    </tr>\n",
       "    <tr>\n",
       "      <th>4</th>\n",
       "      <td>412290</td>\n",
       "      <td>Jerde-Hilpert</td>\n",
       "      <td>10005</td>\n",
       "      <td>S1-82801</td>\n",
       "      <td>21</td>\n",
       "      <td>13.62</td>\n",
       "      <td>286.02</td>\n",
       "    </tr>\n",
       "    <tr>\n",
       "      <th>5</th>\n",
       "      <td>412290</td>\n",
       "      <td>Jerde-Hilpert</td>\n",
       "      <td>10005</td>\n",
       "      <td>S1-06532</td>\n",
       "      <td>9</td>\n",
       "      <td>92.55</td>\n",
       "      <td>832.95</td>\n",
       "    </tr>\n",
       "    <tr>\n",
       "      <th>6</th>\n",
       "      <td>412290</td>\n",
       "      <td>Jerde-Hilpert</td>\n",
       "      <td>10005</td>\n",
       "      <td>S1-47412</td>\n",
       "      <td>44</td>\n",
       "      <td>78.91</td>\n",
       "      <td>3472.04</td>\n",
       "    </tr>\n",
       "    <tr>\n",
       "      <th>7</th>\n",
       "      <td>412290</td>\n",
       "      <td>Jerde-Hilpert</td>\n",
       "      <td>10005</td>\n",
       "      <td>S1-27722</td>\n",
       "      <td>36</td>\n",
       "      <td>25.42</td>\n",
       "      <td>915.12</td>\n",
       "    </tr>\n",
       "    <tr>\n",
       "      <th>8</th>\n",
       "      <td>218895</td>\n",
       "      <td>Kulas Inc</td>\n",
       "      <td>10006</td>\n",
       "      <td>S1-27722</td>\n",
       "      <td>32</td>\n",
       "      <td>95.66</td>\n",
       "      <td>3061.12</td>\n",
       "    </tr>\n",
       "    <tr>\n",
       "      <th>9</th>\n",
       "      <td>218895</td>\n",
       "      <td>Kulas Inc</td>\n",
       "      <td>10006</td>\n",
       "      <td>B1-33087</td>\n",
       "      <td>23</td>\n",
       "      <td>22.55</td>\n",
       "      <td>518.65</td>\n",
       "    </tr>\n",
       "    <tr>\n",
       "      <th>10</th>\n",
       "      <td>218895</td>\n",
       "      <td>Kulas Inc</td>\n",
       "      <td>10006</td>\n",
       "      <td>B1-33364</td>\n",
       "      <td>3</td>\n",
       "      <td>72.30</td>\n",
       "      <td>216.90</td>\n",
       "    </tr>\n",
       "    <tr>\n",
       "      <th>11</th>\n",
       "      <td>218895</td>\n",
       "      <td>Kulas Inc</td>\n",
       "      <td>10006</td>\n",
       "      <td>B1-20000</td>\n",
       "      <td>-1</td>\n",
       "      <td>72.18</td>\n",
       "      <td>-72.18</td>\n",
       "    </tr>\n",
       "  </tbody>\n",
       "</table>\n",
       "</div>"
      ],
      "text/plain": [
       "    account           name  order       sku  quantity  unit price  ext price\n",
       "0    383080       Will LLC  10001  B1-20000         7       33.69     235.83\n",
       "1    383080       Will LLC  10001  S1-27722        11       21.12     232.32\n",
       "2    383080       Will LLC  10001  B1-86481         3       35.99     107.97\n",
       "3    412290  Jerde-Hilpert  10005  S1-06532        48       55.82    2679.36\n",
       "4    412290  Jerde-Hilpert  10005  S1-82801        21       13.62     286.02\n",
       "5    412290  Jerde-Hilpert  10005  S1-06532         9       92.55     832.95\n",
       "6    412290  Jerde-Hilpert  10005  S1-47412        44       78.91    3472.04\n",
       "7    412290  Jerde-Hilpert  10005  S1-27722        36       25.42     915.12\n",
       "8    218895      Kulas Inc  10006  S1-27722        32       95.66    3061.12\n",
       "9    218895      Kulas Inc  10006  B1-33087        23       22.55     518.65\n",
       "10   218895      Kulas Inc  10006  B1-33364         3       72.30     216.90\n",
       "11   218895      Kulas Inc  10006  B1-20000        -1       72.18     -72.18"
      ]
     },
     "execution_count": 109,
     "metadata": {},
     "output_type": "execute_result"
    }
   ],
   "source": [
    "df = pd.read_excel(\"C:/Users/Михаил/Desktop/img/sales_transactions.xlsx\")\n",
    "df"
   ]
  },
  {
   "cell_type": "markdown",
   "metadata": {
    "collapsed": true,
    "id": "cRbCr-7DGGVG"
   },
   "source": [
    "Как можно видеть, данные содержат 3 заказа (10001, 10005 и 10006), по несколько товаров в каждом (sku).\n",
    "\n",
    "Ставится задача определить процент стоимости каждого из товаров в рамках заказа. То есть, к примеру, суммарная стоимость товаров по заказу 10001 составляет $576.12, из них:\n",
    "\n",
    "- товар B1-20000 = $235.83 или 40.9%\n",
    "\n",
    "- товар S1-27722 = $232.32 или 40.3%\n",
    "\n",
    "- товар B1-86481 = $107.97 или 18.7%.\n",
    "\n",
    "Проблема состоит в том, чтобы для определения данного показателя необходимо сначала посчитать суммарную стоимость товаров по каждому заказу, далее вернуться к отдельным товарам и для каждого подсчитать процент от общей суммы по заказам, к которым они относятся. \n",
    "\n",
    "Решим задачу двумя разными способами.\n",
    "\n",
    "**1 вариант решения: соединение с помощью функции `merge()`.**\n",
    "\n",
    "Очевидным решением является группировка данных по номерам заказов с помощью метода `groupby()`, которому в качестве аргумента зададим столбец `order`. Далее подсчитаем суммарную стоимость заказа:"
   ]
  },
  {
   "cell_type": "code",
   "execution_count": 110,
   "metadata": {
    "id": "n5pnE_AlGGVG"
   },
   "outputs": [
    {
     "data": {
      "text/plain": [
       "order\n",
       "10001     576.12\n",
       "10005    8185.49\n",
       "10006    3724.49\n",
       "Name: ext price, dtype: float64"
      ]
     },
     "execution_count": 110,
     "metadata": {},
     "output_type": "execute_result"
    }
   ],
   "source": [
    "df.groupby('order')[\"ext price\"].sum()"
   ]
  },
  {
   "cell_type": "markdown",
   "metadata": {
    "id": "4TxviNbaGGVH"
   },
   "source": [
    "Следующая диаграмма иллюстрирует действия, производимые с помощью `groupby`:\n",
    "<img src=\"C:/Users/Михаил/Desktop/img/simple_groupby.png\">"
   ]
  },
  {
   "cell_type": "markdown",
   "metadata": {
    "collapsed": true,
    "id": "C-u1GtLHGGVH"
   },
   "source": [
    "Теперь присоединим полученные цифры к исходному набору данных с помощью функции `merge` между исходными и посчитанными наборами даннных, в итоге получим новый DataFrame:"
   ]
  },
  {
   "cell_type": "code",
   "execution_count": 168,
   "metadata": {
    "id": "NeJmCwjFGGVH"
   },
   "outputs": [
    {
     "data": {
      "text/html": [
       "<div>\n",
       "<style scoped>\n",
       "    .dataframe tbody tr th:only-of-type {\n",
       "        vertical-align: middle;\n",
       "    }\n",
       "\n",
       "    .dataframe tbody tr th {\n",
       "        vertical-align: top;\n",
       "    }\n",
       "\n",
       "    .dataframe thead th {\n",
       "        text-align: right;\n",
       "    }\n",
       "</style>\n",
       "<table border=\"1\" class=\"dataframe\">\n",
       "  <thead>\n",
       "    <tr style=\"text-align: right;\">\n",
       "      <th></th>\n",
       "      <th>account</th>\n",
       "      <th>name</th>\n",
       "      <th>order</th>\n",
       "      <th>sku</th>\n",
       "      <th>quantity</th>\n",
       "      <th>unit price</th>\n",
       "      <th>ext price</th>\n",
       "      <th>Order_Total</th>\n",
       "      <th>Percent_of_Order</th>\n",
       "    </tr>\n",
       "  </thead>\n",
       "  <tbody>\n",
       "    <tr>\n",
       "      <th>0</th>\n",
       "      <td>383080</td>\n",
       "      <td>Will LLC</td>\n",
       "      <td>10001</td>\n",
       "      <td>B1-20000</td>\n",
       "      <td>7</td>\n",
       "      <td>33.69</td>\n",
       "      <td>235.83</td>\n",
       "      <td>576.12</td>\n",
       "      <td>40.934180</td>\n",
       "    </tr>\n",
       "    <tr>\n",
       "      <th>1</th>\n",
       "      <td>383080</td>\n",
       "      <td>Will LLC</td>\n",
       "      <td>10001</td>\n",
       "      <td>S1-27722</td>\n",
       "      <td>11</td>\n",
       "      <td>21.12</td>\n",
       "      <td>232.32</td>\n",
       "      <td>576.12</td>\n",
       "      <td>40.324932</td>\n",
       "    </tr>\n",
       "    <tr>\n",
       "      <th>2</th>\n",
       "      <td>383080</td>\n",
       "      <td>Will LLC</td>\n",
       "      <td>10001</td>\n",
       "      <td>B1-86481</td>\n",
       "      <td>3</td>\n",
       "      <td>35.99</td>\n",
       "      <td>107.97</td>\n",
       "      <td>576.12</td>\n",
       "      <td>18.740887</td>\n",
       "    </tr>\n",
       "    <tr>\n",
       "      <th>3</th>\n",
       "      <td>412290</td>\n",
       "      <td>Jerde-Hilpert</td>\n",
       "      <td>10005</td>\n",
       "      <td>S1-06532</td>\n",
       "      <td>48</td>\n",
       "      <td>55.82</td>\n",
       "      <td>2679.36</td>\n",
       "      <td>8185.49</td>\n",
       "      <td>32.733043</td>\n",
       "    </tr>\n",
       "    <tr>\n",
       "      <th>4</th>\n",
       "      <td>412290</td>\n",
       "      <td>Jerde-Hilpert</td>\n",
       "      <td>10005</td>\n",
       "      <td>S1-82801</td>\n",
       "      <td>21</td>\n",
       "      <td>13.62</td>\n",
       "      <td>286.02</td>\n",
       "      <td>8185.49</td>\n",
       "      <td>3.494232</td>\n",
       "    </tr>\n",
       "    <tr>\n",
       "      <th>5</th>\n",
       "      <td>412290</td>\n",
       "      <td>Jerde-Hilpert</td>\n",
       "      <td>10005</td>\n",
       "      <td>S1-06532</td>\n",
       "      <td>9</td>\n",
       "      <td>92.55</td>\n",
       "      <td>832.95</td>\n",
       "      <td>8185.49</td>\n",
       "      <td>10.175933</td>\n",
       "    </tr>\n",
       "    <tr>\n",
       "      <th>6</th>\n",
       "      <td>412290</td>\n",
       "      <td>Jerde-Hilpert</td>\n",
       "      <td>10005</td>\n",
       "      <td>S1-47412</td>\n",
       "      <td>44</td>\n",
       "      <td>78.91</td>\n",
       "      <td>3472.04</td>\n",
       "      <td>8185.49</td>\n",
       "      <td>42.417009</td>\n",
       "    </tr>\n",
       "    <tr>\n",
       "      <th>7</th>\n",
       "      <td>412290</td>\n",
       "      <td>Jerde-Hilpert</td>\n",
       "      <td>10005</td>\n",
       "      <td>S1-27722</td>\n",
       "      <td>36</td>\n",
       "      <td>25.42</td>\n",
       "      <td>915.12</td>\n",
       "      <td>8185.49</td>\n",
       "      <td>11.179783</td>\n",
       "    </tr>\n",
       "    <tr>\n",
       "      <th>8</th>\n",
       "      <td>218895</td>\n",
       "      <td>Kulas Inc</td>\n",
       "      <td>10006</td>\n",
       "      <td>S1-27722</td>\n",
       "      <td>32</td>\n",
       "      <td>95.66</td>\n",
       "      <td>3061.12</td>\n",
       "      <td>3724.49</td>\n",
       "      <td>82.188971</td>\n",
       "    </tr>\n",
       "    <tr>\n",
       "      <th>9</th>\n",
       "      <td>218895</td>\n",
       "      <td>Kulas Inc</td>\n",
       "      <td>10006</td>\n",
       "      <td>B1-33087</td>\n",
       "      <td>23</td>\n",
       "      <td>22.55</td>\n",
       "      <td>518.65</td>\n",
       "      <td>3724.49</td>\n",
       "      <td>13.925396</td>\n",
       "    </tr>\n",
       "    <tr>\n",
       "      <th>10</th>\n",
       "      <td>218895</td>\n",
       "      <td>Kulas Inc</td>\n",
       "      <td>10006</td>\n",
       "      <td>B1-33364</td>\n",
       "      <td>3</td>\n",
       "      <td>72.30</td>\n",
       "      <td>216.90</td>\n",
       "      <td>3724.49</td>\n",
       "      <td>5.823616</td>\n",
       "    </tr>\n",
       "    <tr>\n",
       "      <th>11</th>\n",
       "      <td>218895</td>\n",
       "      <td>Kulas Inc</td>\n",
       "      <td>10006</td>\n",
       "      <td>B1-20000</td>\n",
       "      <td>-1</td>\n",
       "      <td>72.18</td>\n",
       "      <td>-72.18</td>\n",
       "      <td>3724.49</td>\n",
       "      <td>-1.937983</td>\n",
       "    </tr>\n",
       "  </tbody>\n",
       "</table>\n",
       "</div>"
      ],
      "text/plain": [
       "    account           name  order       sku  quantity  unit price  ext price  \\\n",
       "0    383080       Will LLC  10001  B1-20000         7       33.69     235.83   \n",
       "1    383080       Will LLC  10001  S1-27722        11       21.12     232.32   \n",
       "2    383080       Will LLC  10001  B1-86481         3       35.99     107.97   \n",
       "3    412290  Jerde-Hilpert  10005  S1-06532        48       55.82    2679.36   \n",
       "4    412290  Jerde-Hilpert  10005  S1-82801        21       13.62     286.02   \n",
       "5    412290  Jerde-Hilpert  10005  S1-06532         9       92.55     832.95   \n",
       "6    412290  Jerde-Hilpert  10005  S1-47412        44       78.91    3472.04   \n",
       "7    412290  Jerde-Hilpert  10005  S1-27722        36       25.42     915.12   \n",
       "8    218895      Kulas Inc  10006  S1-27722        32       95.66    3061.12   \n",
       "9    218895      Kulas Inc  10006  B1-33087        23       22.55     518.65   \n",
       "10   218895      Kulas Inc  10006  B1-33364         3       72.30     216.90   \n",
       "11   218895      Kulas Inc  10006  B1-20000        -1       72.18     -72.18   \n",
       "\n",
       "    Order_Total  Percent_of_Order  \n",
       "0        576.12         40.934180  \n",
       "1        576.12         40.324932  \n",
       "2        576.12         18.740887  \n",
       "3       8185.49         32.733043  \n",
       "4       8185.49          3.494232  \n",
       "5       8185.49         10.175933  \n",
       "6       8185.49         42.417009  \n",
       "7       8185.49         11.179783  \n",
       "8       3724.49         82.188971  \n",
       "9       3724.49         13.925396  \n",
       "10      3724.49          5.823616  \n",
       "11      3724.49         -1.937983  "
      ]
     },
     "execution_count": 168,
     "metadata": {},
     "output_type": "execute_result"
    }
   ],
   "source": [
    "order_total = df.groupby('order')[\"ext price\"].sum().rename(\"Order_Total\").reset_index() \n",
    "df_1 = df.merge(order_total)\n",
    "df_1[\"Percent_of_Order\"] = df_1[\"ext price\"] / df_1[\"Order_Total\"]*100\n",
    "df_1"
   ]
  },
  {
   "cell_type": "markdown",
   "metadata": {
    "id": "nixliOWDGGVH"
   },
   "source": [
    "Как Вы можете видеть, наш алгоритм сработал верно, но в ходе выполнения пришлось сделать некоторые шаги по перегруппировке и созданию нового набора данных, израсходовав на это память."
   ]
  },
  {
   "cell_type": "markdown",
   "metadata": {
    "id": "rFIWbC-eGGVH"
   },
   "source": [
    "**2 вариант решения: использование `transform`.**\n",
    "\n",
    "Вернёмся к исходным данным.\n",
    "\n",
    "Применим функцию `groupby()` по столбцу `order` и возьмём данные из столбца `ext price`, как и делали в первом варианте решения.\n",
    "\n",
    "Но сделаем более хитрую функцию `sum` \"внутри\" функции `transform`:\n"
   ]
  },
  {
   "cell_type": "code",
   "execution_count": 172,
   "metadata": {
    "id": "3LMcnAneGGVH"
   },
   "outputs": [
    {
     "data": {
      "text/plain": [
       "0      576.12\n",
       "1      576.12\n",
       "2      576.12\n",
       "3     8185.49\n",
       "4     8185.49\n",
       "5     8185.49\n",
       "6     8185.49\n",
       "7     8185.49\n",
       "8     3724.49\n",
       "9     3724.49\n",
       "10    3724.49\n",
       "11    3724.49\n",
       "Name: ext price, dtype: float64"
      ]
     },
     "execution_count": 172,
     "metadata": {},
     "output_type": "execute_result"
    }
   ],
   "source": [
    "df.groupby('order')[\"ext price\"].transform('sum')"
   ]
  },
  {
   "cell_type": "markdown",
   "metadata": {
    "id": "zVon0V3LGGVI"
   },
   "source": [
    "Как Вы уже успели заметить, данная строчка кода вернула нам \"полноразмерный\" столбец данных (с числом строк, равным числу строк в исходных данных), а не как это было в первом варианте с тремя строчками (по количеству заказов). И эта магия работает благодаря функции `transform`.\n",
    "\n",
    "С помощью этой строки кода добавим к набору данных столбец \"Order_Total\" и далее посчитаем процент от стоимости по каждому из заказов (что и требуется в задании):"
   ]
  },
  {
   "cell_type": "code",
   "execution_count": 175,
   "metadata": {
    "id": "JU4Bo2pUGGVI"
   },
   "outputs": [
    {
     "data": {
      "text/html": [
       "<div>\n",
       "<style scoped>\n",
       "    .dataframe tbody tr th:only-of-type {\n",
       "        vertical-align: middle;\n",
       "    }\n",
       "\n",
       "    .dataframe tbody tr th {\n",
       "        vertical-align: top;\n",
       "    }\n",
       "\n",
       "    .dataframe thead th {\n",
       "        text-align: right;\n",
       "    }\n",
       "</style>\n",
       "<table border=\"1\" class=\"dataframe\">\n",
       "  <thead>\n",
       "    <tr style=\"text-align: right;\">\n",
       "      <th></th>\n",
       "      <th>account</th>\n",
       "      <th>name</th>\n",
       "      <th>order</th>\n",
       "      <th>sku</th>\n",
       "      <th>quantity</th>\n",
       "      <th>unit price</th>\n",
       "      <th>ext price</th>\n",
       "      <th>Order_Total</th>\n",
       "      <th>Percent_of_Order</th>\n",
       "    </tr>\n",
       "  </thead>\n",
       "  <tbody>\n",
       "    <tr>\n",
       "      <th>0</th>\n",
       "      <td>383080</td>\n",
       "      <td>Will LLC</td>\n",
       "      <td>10001</td>\n",
       "      <td>B1-20000</td>\n",
       "      <td>7</td>\n",
       "      <td>33.69</td>\n",
       "      <td>235.83</td>\n",
       "      <td>576.12</td>\n",
       "      <td>40.934180</td>\n",
       "    </tr>\n",
       "    <tr>\n",
       "      <th>1</th>\n",
       "      <td>383080</td>\n",
       "      <td>Will LLC</td>\n",
       "      <td>10001</td>\n",
       "      <td>S1-27722</td>\n",
       "      <td>11</td>\n",
       "      <td>21.12</td>\n",
       "      <td>232.32</td>\n",
       "      <td>576.12</td>\n",
       "      <td>40.324932</td>\n",
       "    </tr>\n",
       "    <tr>\n",
       "      <th>2</th>\n",
       "      <td>383080</td>\n",
       "      <td>Will LLC</td>\n",
       "      <td>10001</td>\n",
       "      <td>B1-86481</td>\n",
       "      <td>3</td>\n",
       "      <td>35.99</td>\n",
       "      <td>107.97</td>\n",
       "      <td>576.12</td>\n",
       "      <td>18.740887</td>\n",
       "    </tr>\n",
       "    <tr>\n",
       "      <th>3</th>\n",
       "      <td>412290</td>\n",
       "      <td>Jerde-Hilpert</td>\n",
       "      <td>10005</td>\n",
       "      <td>S1-06532</td>\n",
       "      <td>48</td>\n",
       "      <td>55.82</td>\n",
       "      <td>2679.36</td>\n",
       "      <td>8185.49</td>\n",
       "      <td>32.733043</td>\n",
       "    </tr>\n",
       "    <tr>\n",
       "      <th>4</th>\n",
       "      <td>412290</td>\n",
       "      <td>Jerde-Hilpert</td>\n",
       "      <td>10005</td>\n",
       "      <td>S1-82801</td>\n",
       "      <td>21</td>\n",
       "      <td>13.62</td>\n",
       "      <td>286.02</td>\n",
       "      <td>8185.49</td>\n",
       "      <td>3.494232</td>\n",
       "    </tr>\n",
       "    <tr>\n",
       "      <th>5</th>\n",
       "      <td>412290</td>\n",
       "      <td>Jerde-Hilpert</td>\n",
       "      <td>10005</td>\n",
       "      <td>S1-06532</td>\n",
       "      <td>9</td>\n",
       "      <td>92.55</td>\n",
       "      <td>832.95</td>\n",
       "      <td>8185.49</td>\n",
       "      <td>10.175933</td>\n",
       "    </tr>\n",
       "    <tr>\n",
       "      <th>6</th>\n",
       "      <td>412290</td>\n",
       "      <td>Jerde-Hilpert</td>\n",
       "      <td>10005</td>\n",
       "      <td>S1-47412</td>\n",
       "      <td>44</td>\n",
       "      <td>78.91</td>\n",
       "      <td>3472.04</td>\n",
       "      <td>8185.49</td>\n",
       "      <td>42.417009</td>\n",
       "    </tr>\n",
       "    <tr>\n",
       "      <th>7</th>\n",
       "      <td>412290</td>\n",
       "      <td>Jerde-Hilpert</td>\n",
       "      <td>10005</td>\n",
       "      <td>S1-27722</td>\n",
       "      <td>36</td>\n",
       "      <td>25.42</td>\n",
       "      <td>915.12</td>\n",
       "      <td>8185.49</td>\n",
       "      <td>11.179783</td>\n",
       "    </tr>\n",
       "    <tr>\n",
       "      <th>8</th>\n",
       "      <td>218895</td>\n",
       "      <td>Kulas Inc</td>\n",
       "      <td>10006</td>\n",
       "      <td>S1-27722</td>\n",
       "      <td>32</td>\n",
       "      <td>95.66</td>\n",
       "      <td>3061.12</td>\n",
       "      <td>3724.49</td>\n",
       "      <td>82.188971</td>\n",
       "    </tr>\n",
       "    <tr>\n",
       "      <th>9</th>\n",
       "      <td>218895</td>\n",
       "      <td>Kulas Inc</td>\n",
       "      <td>10006</td>\n",
       "      <td>B1-33087</td>\n",
       "      <td>23</td>\n",
       "      <td>22.55</td>\n",
       "      <td>518.65</td>\n",
       "      <td>3724.49</td>\n",
       "      <td>13.925396</td>\n",
       "    </tr>\n",
       "    <tr>\n",
       "      <th>10</th>\n",
       "      <td>218895</td>\n",
       "      <td>Kulas Inc</td>\n",
       "      <td>10006</td>\n",
       "      <td>B1-33364</td>\n",
       "      <td>3</td>\n",
       "      <td>72.30</td>\n",
       "      <td>216.90</td>\n",
       "      <td>3724.49</td>\n",
       "      <td>5.823616</td>\n",
       "    </tr>\n",
       "    <tr>\n",
       "      <th>11</th>\n",
       "      <td>218895</td>\n",
       "      <td>Kulas Inc</td>\n",
       "      <td>10006</td>\n",
       "      <td>B1-20000</td>\n",
       "      <td>-1</td>\n",
       "      <td>72.18</td>\n",
       "      <td>-72.18</td>\n",
       "      <td>3724.49</td>\n",
       "      <td>-1.937983</td>\n",
       "    </tr>\n",
       "  </tbody>\n",
       "</table>\n",
       "</div>"
      ],
      "text/plain": [
       "    account           name  order       sku  quantity  unit price  ext price  \\\n",
       "0    383080       Will LLC  10001  B1-20000         7       33.69     235.83   \n",
       "1    383080       Will LLC  10001  S1-27722        11       21.12     232.32   \n",
       "2    383080       Will LLC  10001  B1-86481         3       35.99     107.97   \n",
       "3    412290  Jerde-Hilpert  10005  S1-06532        48       55.82    2679.36   \n",
       "4    412290  Jerde-Hilpert  10005  S1-82801        21       13.62     286.02   \n",
       "5    412290  Jerde-Hilpert  10005  S1-06532         9       92.55     832.95   \n",
       "6    412290  Jerde-Hilpert  10005  S1-47412        44       78.91    3472.04   \n",
       "7    412290  Jerde-Hilpert  10005  S1-27722        36       25.42     915.12   \n",
       "8    218895      Kulas Inc  10006  S1-27722        32       95.66    3061.12   \n",
       "9    218895      Kulas Inc  10006  B1-33087        23       22.55     518.65   \n",
       "10   218895      Kulas Inc  10006  B1-33364         3       72.30     216.90   \n",
       "11   218895      Kulas Inc  10006  B1-20000        -1       72.18     -72.18   \n",
       "\n",
       "    Order_Total  Percent_of_Order  \n",
       "0        576.12         40.934180  \n",
       "1        576.12         40.324932  \n",
       "2        576.12         18.740887  \n",
       "3       8185.49         32.733043  \n",
       "4       8185.49          3.494232  \n",
       "5       8185.49         10.175933  \n",
       "6       8185.49         42.417009  \n",
       "7       8185.49         11.179783  \n",
       "8       3724.49         82.188971  \n",
       "9       3724.49         13.925396  \n",
       "10      3724.49          5.823616  \n",
       "11      3724.49         -1.937983  "
      ]
     },
     "execution_count": 175,
     "metadata": {},
     "output_type": "execute_result"
    }
   ],
   "source": [
    "df = pd.read_excel(\"C:/Users/Михаил/Desktop/img/sales_transactions.xlsx\")\n",
    "df[\"Order_Total\"] = df.groupby('order')[\"ext price\"].transform('sum')\n",
    "df[\"Percent_of_Order\"] = df[\"ext price\"] / df[\"Order_Total\"]*100\n",
    "df"
   ]
  },
  {
   "cell_type": "markdown",
   "metadata": {
    "id": "yx9UmSYZGGVI"
   },
   "source": [
    "А в качестве приятного бонуса можно свернуть данную операцию в одну строку, не добавляя в данные промежуточный столбец \"Order_Total\":"
   ]
  },
  {
   "cell_type": "code",
   "execution_count": 176,
   "metadata": {
    "id": "uJDL_hrDGGVI"
   },
   "outputs": [
    {
     "data": {
      "text/html": [
       "<div>\n",
       "<style scoped>\n",
       "    .dataframe tbody tr th:only-of-type {\n",
       "        vertical-align: middle;\n",
       "    }\n",
       "\n",
       "    .dataframe tbody tr th {\n",
       "        vertical-align: top;\n",
       "    }\n",
       "\n",
       "    .dataframe thead th {\n",
       "        text-align: right;\n",
       "    }\n",
       "</style>\n",
       "<table border=\"1\" class=\"dataframe\">\n",
       "  <thead>\n",
       "    <tr style=\"text-align: right;\">\n",
       "      <th></th>\n",
       "      <th>account</th>\n",
       "      <th>name</th>\n",
       "      <th>order</th>\n",
       "      <th>sku</th>\n",
       "      <th>quantity</th>\n",
       "      <th>unit price</th>\n",
       "      <th>ext price</th>\n",
       "      <th>Percent_of_Order</th>\n",
       "    </tr>\n",
       "  </thead>\n",
       "  <tbody>\n",
       "    <tr>\n",
       "      <th>0</th>\n",
       "      <td>383080</td>\n",
       "      <td>Will LLC</td>\n",
       "      <td>10001</td>\n",
       "      <td>B1-20000</td>\n",
       "      <td>7</td>\n",
       "      <td>33.69</td>\n",
       "      <td>235.83</td>\n",
       "      <td>40.934180</td>\n",
       "    </tr>\n",
       "    <tr>\n",
       "      <th>1</th>\n",
       "      <td>383080</td>\n",
       "      <td>Will LLC</td>\n",
       "      <td>10001</td>\n",
       "      <td>S1-27722</td>\n",
       "      <td>11</td>\n",
       "      <td>21.12</td>\n",
       "      <td>232.32</td>\n",
       "      <td>40.324932</td>\n",
       "    </tr>\n",
       "    <tr>\n",
       "      <th>2</th>\n",
       "      <td>383080</td>\n",
       "      <td>Will LLC</td>\n",
       "      <td>10001</td>\n",
       "      <td>B1-86481</td>\n",
       "      <td>3</td>\n",
       "      <td>35.99</td>\n",
       "      <td>107.97</td>\n",
       "      <td>18.740887</td>\n",
       "    </tr>\n",
       "    <tr>\n",
       "      <th>3</th>\n",
       "      <td>412290</td>\n",
       "      <td>Jerde-Hilpert</td>\n",
       "      <td>10005</td>\n",
       "      <td>S1-06532</td>\n",
       "      <td>48</td>\n",
       "      <td>55.82</td>\n",
       "      <td>2679.36</td>\n",
       "      <td>32.733043</td>\n",
       "    </tr>\n",
       "    <tr>\n",
       "      <th>4</th>\n",
       "      <td>412290</td>\n",
       "      <td>Jerde-Hilpert</td>\n",
       "      <td>10005</td>\n",
       "      <td>S1-82801</td>\n",
       "      <td>21</td>\n",
       "      <td>13.62</td>\n",
       "      <td>286.02</td>\n",
       "      <td>3.494232</td>\n",
       "    </tr>\n",
       "    <tr>\n",
       "      <th>5</th>\n",
       "      <td>412290</td>\n",
       "      <td>Jerde-Hilpert</td>\n",
       "      <td>10005</td>\n",
       "      <td>S1-06532</td>\n",
       "      <td>9</td>\n",
       "      <td>92.55</td>\n",
       "      <td>832.95</td>\n",
       "      <td>10.175933</td>\n",
       "    </tr>\n",
       "    <tr>\n",
       "      <th>6</th>\n",
       "      <td>412290</td>\n",
       "      <td>Jerde-Hilpert</td>\n",
       "      <td>10005</td>\n",
       "      <td>S1-47412</td>\n",
       "      <td>44</td>\n",
       "      <td>78.91</td>\n",
       "      <td>3472.04</td>\n",
       "      <td>42.417009</td>\n",
       "    </tr>\n",
       "    <tr>\n",
       "      <th>7</th>\n",
       "      <td>412290</td>\n",
       "      <td>Jerde-Hilpert</td>\n",
       "      <td>10005</td>\n",
       "      <td>S1-27722</td>\n",
       "      <td>36</td>\n",
       "      <td>25.42</td>\n",
       "      <td>915.12</td>\n",
       "      <td>11.179783</td>\n",
       "    </tr>\n",
       "    <tr>\n",
       "      <th>8</th>\n",
       "      <td>218895</td>\n",
       "      <td>Kulas Inc</td>\n",
       "      <td>10006</td>\n",
       "      <td>S1-27722</td>\n",
       "      <td>32</td>\n",
       "      <td>95.66</td>\n",
       "      <td>3061.12</td>\n",
       "      <td>82.188971</td>\n",
       "    </tr>\n",
       "    <tr>\n",
       "      <th>9</th>\n",
       "      <td>218895</td>\n",
       "      <td>Kulas Inc</td>\n",
       "      <td>10006</td>\n",
       "      <td>B1-33087</td>\n",
       "      <td>23</td>\n",
       "      <td>22.55</td>\n",
       "      <td>518.65</td>\n",
       "      <td>13.925396</td>\n",
       "    </tr>\n",
       "    <tr>\n",
       "      <th>10</th>\n",
       "      <td>218895</td>\n",
       "      <td>Kulas Inc</td>\n",
       "      <td>10006</td>\n",
       "      <td>B1-33364</td>\n",
       "      <td>3</td>\n",
       "      <td>72.30</td>\n",
       "      <td>216.90</td>\n",
       "      <td>5.823616</td>\n",
       "    </tr>\n",
       "    <tr>\n",
       "      <th>11</th>\n",
       "      <td>218895</td>\n",
       "      <td>Kulas Inc</td>\n",
       "      <td>10006</td>\n",
       "      <td>B1-20000</td>\n",
       "      <td>-1</td>\n",
       "      <td>72.18</td>\n",
       "      <td>-72.18</td>\n",
       "      <td>-1.937983</td>\n",
       "    </tr>\n",
       "  </tbody>\n",
       "</table>\n",
       "</div>"
      ],
      "text/plain": [
       "    account           name  order       sku  quantity  unit price  ext price  \\\n",
       "0    383080       Will LLC  10001  B1-20000         7       33.69     235.83   \n",
       "1    383080       Will LLC  10001  S1-27722        11       21.12     232.32   \n",
       "2    383080       Will LLC  10001  B1-86481         3       35.99     107.97   \n",
       "3    412290  Jerde-Hilpert  10005  S1-06532        48       55.82    2679.36   \n",
       "4    412290  Jerde-Hilpert  10005  S1-82801        21       13.62     286.02   \n",
       "5    412290  Jerde-Hilpert  10005  S1-06532         9       92.55     832.95   \n",
       "6    412290  Jerde-Hilpert  10005  S1-47412        44       78.91    3472.04   \n",
       "7    412290  Jerde-Hilpert  10005  S1-27722        36       25.42     915.12   \n",
       "8    218895      Kulas Inc  10006  S1-27722        32       95.66    3061.12   \n",
       "9    218895      Kulas Inc  10006  B1-33087        23       22.55     518.65   \n",
       "10   218895      Kulas Inc  10006  B1-33364         3       72.30     216.90   \n",
       "11   218895      Kulas Inc  10006  B1-20000        -1       72.18     -72.18   \n",
       "\n",
       "    Percent_of_Order  \n",
       "0          40.934180  \n",
       "1          40.324932  \n",
       "2          18.740887  \n",
       "3          32.733043  \n",
       "4           3.494232  \n",
       "5          10.175933  \n",
       "6          42.417009  \n",
       "7          11.179783  \n",
       "8          82.188971  \n",
       "9          13.925396  \n",
       "10          5.823616  \n",
       "11         -1.937983  "
      ]
     },
     "execution_count": 176,
     "metadata": {},
     "output_type": "execute_result"
    }
   ],
   "source": [
    "df = pd.read_excel(\"C:/Users/Михаил/Desktop/img//sales_transactions.xlsx\")\n",
    "df[\"Percent_of_Order\"] = df[\"ext price\"] / df.groupby('order')[\"ext price\"].transform('sum') * 100\n",
    "df"
   ]
  },
  {
   "cell_type": "markdown",
   "metadata": {
    "id": "-qJd6PMrGGVI"
   },
   "source": [
    "Операции, производимые с помощью `transform` можно представить следующим образом:\n",
    "<img src=\"img/transform_groupby.png\">"
   ]
  },
  {
   "cell_type": "markdown",
   "metadata": {
    "id": "YboJJFMoGGVI"
   },
   "source": [
    "Возможно, операции, производимые при помощи `transform` на первый взгляд покажутся сложными для восприятия, но если уделить изучению этого метода достаточное время, становится ясно, насколько он эффективен и удобен."
   ]
  },
  {
   "cell_type": "markdown",
   "metadata": {
    "id": "hilhYSG8GGVJ"
   },
   "source": [
    "Задание 1\n",
    "\n",
    "_Допустим, что первые две буквы кода товара (sku) кодируют категорию, к которой относится этот товар. Посчитайте среднюю цену, за которую продаётся единица товара (unit price) каждой категории.\n",
    "Указание: при решении может быть удобно использовать функцию `Series.apply(funcSplit)`, которая возвращает новый Series, результаты которого получены применением функции `funcSplit` ко всем элементам исходного._"
   ]
  },
  {
   "cell_type": "code",
   "execution_count": 89,
   "metadata": {
    "id": "8IUK10WmGGVJ",
    "scrolled": false
   },
   "outputs": [
    {
     "name": "stdout",
     "output_type": "stream",
     "text": [
      "    account           name  order       sku  quantity  unit price  ext price\n",
      "0    383080       Will LLC  10001  B1-20000         7       33.69     235.83\n",
      "1    383080       Will LLC  10001  S1-27722        11       21.12     232.32\n",
      "2    383080       Will LLC  10001  B1-86481         3       35.99     107.97\n",
      "3    412290  Jerde-Hilpert  10005  S1-06532        48       55.82    2679.36\n",
      "4    412290  Jerde-Hilpert  10005  S1-82801        21       13.62     286.02\n",
      "5    412290  Jerde-Hilpert  10005  S1-06532         9       92.55     832.95\n",
      "6    412290  Jerde-Hilpert  10005  S1-47412        44       78.91    3472.04\n",
      "7    412290  Jerde-Hilpert  10005  S1-27722        36       25.42     915.12\n",
      "8    218895      Kulas Inc  10006  S1-27722        32       95.66    3061.12\n",
      "9    218895      Kulas Inc  10006  B1-33087        23       22.55     518.65\n",
      "10   218895      Kulas Inc  10006  B1-33364         3       72.30     216.90\n",
      "11   218895      Kulas Inc  10006  B1-20000        -1       72.18     -72.18\n",
      "    account           name  order  quantity  unit price  ext price sku_1  \\\n",
      "0    383080       Will LLC  10001         7       33.69     235.83    B1   \n",
      "1    383080       Will LLC  10001        11       21.12     232.32    S1   \n",
      "2    383080       Will LLC  10001         3       35.99     107.97    B1   \n",
      "3    412290  Jerde-Hilpert  10005        48       55.82    2679.36    S1   \n",
      "4    412290  Jerde-Hilpert  10005        21       13.62     286.02    S1   \n",
      "5    412290  Jerde-Hilpert  10005         9       92.55     832.95    S1   \n",
      "6    412290  Jerde-Hilpert  10005        44       78.91    3472.04    S1   \n",
      "7    412290  Jerde-Hilpert  10005        36       25.42     915.12    S1   \n",
      "8    218895      Kulas Inc  10006        32       95.66    3061.12    S1   \n",
      "9    218895      Kulas Inc  10006        23       22.55     518.65    B1   \n",
      "10   218895      Kulas Inc  10006         3       72.30     216.90    B1   \n",
      "11   218895      Kulas Inc  10006        -1       72.18     -72.18    B1   \n",
      "\n",
      "    sku_2  \n",
      "0   20000  \n",
      "1   27722  \n",
      "2   86481  \n",
      "3   06532  \n",
      "4   82801  \n",
      "5   06532  \n",
      "6   47412  \n",
      "7   27722  \n",
      "8   27722  \n",
      "9   33087  \n",
      "10  33364  \n",
      "11  20000  \n",
      "\n",
      "\n"
     ]
    },
    {
     "data": {
      "text/plain": [
       "sku_1\n",
       "B1    47.342000\n",
       "S1    54.728571\n",
       "Name: unit price, dtype: float64"
      ]
     },
     "execution_count": 89,
     "metadata": {},
     "output_type": "execute_result"
    }
   ],
   "source": [
    "df = pd.read_excel(\"C:/Users/Михаил/Desktop/img/sales_transactions.xlsx\")\n",
    "print(df)\n",
    "\n",
    "def funcSplit(a):\n",
    "    df_new = df['sku'].str.split('-', expand=True)\n",
    "    del df['sku']\n",
    "    df_new = pd.concat([df, df_new],axis = 1)\n",
    "    po = df_new.rename(columns={0: \"sku_1\", 1: \"sku_2\"})\n",
    "    print(po)\n",
    "    print(\"\\n\")\n",
    "    otvet = (po.groupby(['sku_1'])[\"unit price\"].mean()) \n",
    "    \n",
    "    return otvet\n",
    "\n",
    "funcSplit(df)"
   ]
  },
  {
   "cell_type": "markdown",
   "metadata": {
    "id": "Zu0U9tjoGGVJ"
   },
   "source": [
    "_Теперь добавьте в исходный DataFrame столбец булевого типа, в котором значениями True обозначены те товары, которые были проданы по цене меньшей, чем средняя цена их категории._"
   ]
  },
  {
   "cell_type": "code",
   "execution_count": 93,
   "metadata": {
    "id": "oLngVvPsGGVJ"
   },
   "outputs": [
    {
     "name": "stdout",
     "output_type": "stream",
     "text": [
      "    account           name  order       sku  quantity  unit price  ext price  \\\n",
      "0    383080       Will LLC  10001  B1-20000         7       33.69     235.83   \n",
      "1    383080       Will LLC  10001  S1-27722        11       21.12     232.32   \n",
      "2    383080       Will LLC  10001  B1-86481         3       35.99     107.97   \n",
      "3    412290  Jerde-Hilpert  10005  S1-06532        48       55.82    2679.36   \n",
      "4    412290  Jerde-Hilpert  10005  S1-82801        21       13.62     286.02   \n",
      "5    412290  Jerde-Hilpert  10005  S1-06532         9       92.55     832.95   \n",
      "6    412290  Jerde-Hilpert  10005  S1-47412        44       78.91    3472.04   \n",
      "7    412290  Jerde-Hilpert  10005  S1-27722        36       25.42     915.12   \n",
      "8    218895      Kulas Inc  10006  S1-27722        32       95.66    3061.12   \n",
      "9    218895      Kulas Inc  10006  B1-33087        23       22.55     518.65   \n",
      "10   218895      Kulas Inc  10006  B1-33364         3       72.30     216.90   \n",
      "11   218895      Kulas Inc  10006  B1-20000        -1       72.18     -72.18   \n",
      "\n",
      "    bin_otvet  \n",
      "0        True  \n",
      "1       False  \n",
      "2        True  \n",
      "3       False  \n",
      "4       False  \n",
      "5       False  \n",
      "6       False  \n",
      "7       False  \n",
      "8       False  \n",
      "9        True  \n",
      "10      False  \n",
      "11      False  \n"
     ]
    }
   ],
   "source": [
    "import pandas as pd\n",
    "df = pd.read_excel(\"C:/Users/Михаил/Desktop/img/sales_transactions.xlsx\")\n",
    "\n",
    "def funcSplit(a):\n",
    "    df_new = df['sku'].str.split('-', expand=True)\n",
    "    df_new = pd.concat([df, df_new],axis = 1)\n",
    "    po = df_new.rename(columns={0: \"sku_1\", 1: \"sku_2\"})\n",
    "    return po\n",
    "\n",
    "e = funcSplit(df)\n",
    "B1 = e.loc[e.sku_1 =='B1']\n",
    "S1 = e.loc[e.sku_1 =='S1']\n",
    "df[\"bin_otvet\"] = (B1[\"unit price\"] < B1[\"unit price\"].mean()) | (S1[\"unit price\"] < S1[\"unit price\"].mean())\n",
    "print(df)\n"
   ]
  },
  {
   "cell_type": "markdown",
   "metadata": {
    "id": "NVul5WgCGGVJ"
   },
   "source": [
    "Задание 2\n",
    "\n",
    "_Напишите функцию, на вход которой подаётся prices -- список ежемесячных цен на товар за разные годы (во внутренних скобках указаны цены в каждый месяц года)._\n",
    "\n",
    "_Функция должна вернуть датафрейм, в стобцах которого содержатся результаты применения функции pd.describe к ценам за каждый год. Номер столбца должен соответствовать номеру года, начиная с 1:_\n",
    "<img src=\"img/prices.png\" width=\"224\" height=\"224\" align=\"center\"/></i>\n",
    "\n",
    "Про describe можно почитать тут: https://pandas.pydata.org/pandas-docs/stable/reference/api/pandas.DataFrame.describe.html\n",
    "\n",
    "_Попробуйте выполнить это задание двумя способами: с помощью concat и цикла и с помощью apply._"
   ]
  },
  {
   "cell_type": "code",
   "execution_count": 34,
   "metadata": {
    "id": "c86JDAyqGGVJ"
   },
   "outputs": [
    {
     "name": "stdout",
     "output_type": "stream",
     "text": [
      "    0    1   2    3    4   5    6    7   8    9    10  11\n",
      "0   12   10   5   11   10   5   11    9   6   12   10   5\n",
      "1   12   19   6   13   20   5   14   21   5    8   20   6\n",
      "2  112  110  15  111  110  15  111   19  16  112  101  51\n",
      "3  122  139  26  143  220  45  414  521  65   28  320  26\n",
      "\n",
      "\n",
      "               0          1           2           3\n",
      "count  12.000000  12.000000   12.000000   12.000000\n",
      "mean    8.833333  12.416667   73.583333  172.416667\n",
      "std     2.790677   6.374072   45.552085  165.129953\n",
      "min     5.000000   5.000000   15.000000   26.000000\n",
      "25%     5.750000   6.000000   18.250000   40.750000\n",
      "50%    10.000000  12.500000  105.500000  130.500000\n",
      "75%    11.000000  19.250000  111.000000  245.000000\n",
      "max    12.000000  21.000000  112.000000  521.000000\n"
     ]
    }
   ],
   "source": [
    "prices = [[12, 10, 5, 11, 10, 5, 11, 9, 6, 12, 10, 5],[12, 19, 6, 13, 20, 5, 14, 21, 5, 8, 20, 6], \n",
    "         [112, 110, 15, 111, 110, 15, 111, 19, 16, 112, 101, 51], [122, 139, 26, 143, 220, 45, 414, 521, 65, 28, 320, 26]]\n",
    "#mount = ['January','February','March','April','May','June','Jule','August','September','October','November','December']\n",
    "\n",
    "def describePrices(prices):\n",
    "    e = pd.DataFrame(prices)\n",
    "    print(e)\n",
    "    print(\"\\n\")\n",
    "    po =e.T\n",
    "    otvet =po.describe()\n",
    "    print(otvet)\n",
    "    \n",
    "describePrices(prices)\n"
   ]
  },
  {
   "cell_type": "code",
   "execution_count": null,
   "metadata": {
    "id": "vG6INhRpGGVJ"
   },
   "outputs": [],
   "source": []
  }
 ],
 "metadata": {
  "colab": {
   "collapsed_sections": [],
   "name": "Введение в Pandas_st.ipynb",
   "provenance": []
  },
  "kernelspec": {
   "display_name": "Python 3",
   "language": "python",
   "name": "python3"
  },
  "language_info": {
   "codemirror_mode": {
    "name": "ipython",
    "version": 3
   },
   "file_extension": ".py",
   "mimetype": "text/x-python",
   "name": "python",
   "nbconvert_exporter": "python",
   "pygments_lexer": "ipython3",
   "version": "3.8.5"
  }
 },
 "nbformat": 4,
 "nbformat_minor": 1
}
